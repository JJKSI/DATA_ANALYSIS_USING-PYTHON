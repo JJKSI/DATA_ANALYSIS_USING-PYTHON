{
 "cells": [
  {
   "cell_type": "code",
   "execution_count": 1,
   "id": "7b8e4476",
   "metadata": {},
   "outputs": [],
   "source": [
    "import numpy as np\n",
    "import pandas as pd\n",
    "import matplotlib.pyplot as plt\n",
    "%matplotlib inline\n",
    "import seaborn as sns"
   ]
  },
  {
   "cell_type": "code",
   "execution_count": 24,
   "id": "e2c1411b",
   "metadata": {},
   "outputs": [
    {
     "data": {
      "text/html": [
       "<div>\n",
       "<style scoped>\n",
       "    .dataframe tbody tr th:only-of-type {\n",
       "        vertical-align: middle;\n",
       "    }\n",
       "\n",
       "    .dataframe tbody tr th {\n",
       "        vertical-align: top;\n",
       "    }\n",
       "\n",
       "    .dataframe thead th {\n",
       "        text-align: right;\n",
       "    }\n",
       "</style>\n",
       "<table border=\"1\" class=\"dataframe\">\n",
       "  <thead>\n",
       "    <tr style=\"text-align: right;\">\n",
       "      <th></th>\n",
       "      <th>User_ID</th>\n",
       "      <th>Cust_name</th>\n",
       "      <th>Product_ID</th>\n",
       "      <th>Gender</th>\n",
       "      <th>Age Group</th>\n",
       "      <th>Age</th>\n",
       "      <th>Marital_Status</th>\n",
       "      <th>State</th>\n",
       "      <th>Zone</th>\n",
       "      <th>Occupation</th>\n",
       "      <th>Product_Category</th>\n",
       "      <th>Orders</th>\n",
       "      <th>Amount</th>\n",
       "      <th>Status</th>\n",
       "      <th>unnamed1</th>\n",
       "    </tr>\n",
       "  </thead>\n",
       "  <tbody>\n",
       "    <tr>\n",
       "      <th>0</th>\n",
       "      <td>1002903</td>\n",
       "      <td>Sanskriti</td>\n",
       "      <td>P00125942</td>\n",
       "      <td>F</td>\n",
       "      <td>26-35</td>\n",
       "      <td>28</td>\n",
       "      <td>0</td>\n",
       "      <td>Maharashtra</td>\n",
       "      <td>Western</td>\n",
       "      <td>Healthcare</td>\n",
       "      <td>Auto</td>\n",
       "      <td>1</td>\n",
       "      <td>23952.0</td>\n",
       "      <td>NaN</td>\n",
       "      <td>NaN</td>\n",
       "    </tr>\n",
       "    <tr>\n",
       "      <th>1</th>\n",
       "      <td>1000732</td>\n",
       "      <td>Kartik</td>\n",
       "      <td>P00110942</td>\n",
       "      <td>F</td>\n",
       "      <td>26-35</td>\n",
       "      <td>35</td>\n",
       "      <td>1</td>\n",
       "      <td>Andhra Pradesh</td>\n",
       "      <td>Southern</td>\n",
       "      <td>Govt</td>\n",
       "      <td>Auto</td>\n",
       "      <td>3</td>\n",
       "      <td>23934.0</td>\n",
       "      <td>NaN</td>\n",
       "      <td>NaN</td>\n",
       "    </tr>\n",
       "    <tr>\n",
       "      <th>2</th>\n",
       "      <td>1001990</td>\n",
       "      <td>Bindu</td>\n",
       "      <td>P00118542</td>\n",
       "      <td>F</td>\n",
       "      <td>26-35</td>\n",
       "      <td>35</td>\n",
       "      <td>1</td>\n",
       "      <td>Uttar Pradesh</td>\n",
       "      <td>Central</td>\n",
       "      <td>Automobile</td>\n",
       "      <td>Auto</td>\n",
       "      <td>3</td>\n",
       "      <td>23924.0</td>\n",
       "      <td>NaN</td>\n",
       "      <td>NaN</td>\n",
       "    </tr>\n",
       "    <tr>\n",
       "      <th>3</th>\n",
       "      <td>1001425</td>\n",
       "      <td>Sudevi</td>\n",
       "      <td>P00237842</td>\n",
       "      <td>M</td>\n",
       "      <td>0-17</td>\n",
       "      <td>16</td>\n",
       "      <td>0</td>\n",
       "      <td>Karnataka</td>\n",
       "      <td>Southern</td>\n",
       "      <td>Construction</td>\n",
       "      <td>Auto</td>\n",
       "      <td>2</td>\n",
       "      <td>23912.0</td>\n",
       "      <td>NaN</td>\n",
       "      <td>NaN</td>\n",
       "    </tr>\n",
       "    <tr>\n",
       "      <th>4</th>\n",
       "      <td>1000588</td>\n",
       "      <td>Joni</td>\n",
       "      <td>P00057942</td>\n",
       "      <td>M</td>\n",
       "      <td>26-35</td>\n",
       "      <td>28</td>\n",
       "      <td>1</td>\n",
       "      <td>Gujarat</td>\n",
       "      <td>Western</td>\n",
       "      <td>Food Processing</td>\n",
       "      <td>Auto</td>\n",
       "      <td>2</td>\n",
       "      <td>23877.0</td>\n",
       "      <td>NaN</td>\n",
       "      <td>NaN</td>\n",
       "    </tr>\n",
       "    <tr>\n",
       "      <th>...</th>\n",
       "      <td>...</td>\n",
       "      <td>...</td>\n",
       "      <td>...</td>\n",
       "      <td>...</td>\n",
       "      <td>...</td>\n",
       "      <td>...</td>\n",
       "      <td>...</td>\n",
       "      <td>...</td>\n",
       "      <td>...</td>\n",
       "      <td>...</td>\n",
       "      <td>...</td>\n",
       "      <td>...</td>\n",
       "      <td>...</td>\n",
       "      <td>...</td>\n",
       "      <td>...</td>\n",
       "    </tr>\n",
       "    <tr>\n",
       "      <th>11246</th>\n",
       "      <td>1000695</td>\n",
       "      <td>Manning</td>\n",
       "      <td>P00296942</td>\n",
       "      <td>M</td>\n",
       "      <td>18-25</td>\n",
       "      <td>19</td>\n",
       "      <td>1</td>\n",
       "      <td>Maharashtra</td>\n",
       "      <td>Western</td>\n",
       "      <td>Chemical</td>\n",
       "      <td>Office</td>\n",
       "      <td>4</td>\n",
       "      <td>370.0</td>\n",
       "      <td>NaN</td>\n",
       "      <td>NaN</td>\n",
       "    </tr>\n",
       "    <tr>\n",
       "      <th>11247</th>\n",
       "      <td>1004089</td>\n",
       "      <td>Reichenbach</td>\n",
       "      <td>P00171342</td>\n",
       "      <td>M</td>\n",
       "      <td>26-35</td>\n",
       "      <td>33</td>\n",
       "      <td>0</td>\n",
       "      <td>Haryana</td>\n",
       "      <td>Northern</td>\n",
       "      <td>Healthcare</td>\n",
       "      <td>Veterinary</td>\n",
       "      <td>3</td>\n",
       "      <td>367.0</td>\n",
       "      <td>NaN</td>\n",
       "      <td>NaN</td>\n",
       "    </tr>\n",
       "    <tr>\n",
       "      <th>11248</th>\n",
       "      <td>1001209</td>\n",
       "      <td>Oshin</td>\n",
       "      <td>P00201342</td>\n",
       "      <td>F</td>\n",
       "      <td>36-45</td>\n",
       "      <td>40</td>\n",
       "      <td>0</td>\n",
       "      <td>Madhya Pradesh</td>\n",
       "      <td>Central</td>\n",
       "      <td>Textile</td>\n",
       "      <td>Office</td>\n",
       "      <td>4</td>\n",
       "      <td>213.0</td>\n",
       "      <td>NaN</td>\n",
       "      <td>NaN</td>\n",
       "    </tr>\n",
       "    <tr>\n",
       "      <th>11249</th>\n",
       "      <td>1004023</td>\n",
       "      <td>Noonan</td>\n",
       "      <td>P00059442</td>\n",
       "      <td>M</td>\n",
       "      <td>36-45</td>\n",
       "      <td>37</td>\n",
       "      <td>0</td>\n",
       "      <td>Karnataka</td>\n",
       "      <td>Southern</td>\n",
       "      <td>Agriculture</td>\n",
       "      <td>Office</td>\n",
       "      <td>3</td>\n",
       "      <td>206.0</td>\n",
       "      <td>NaN</td>\n",
       "      <td>NaN</td>\n",
       "    </tr>\n",
       "    <tr>\n",
       "      <th>11250</th>\n",
       "      <td>1002744</td>\n",
       "      <td>Brumley</td>\n",
       "      <td>P00281742</td>\n",
       "      <td>F</td>\n",
       "      <td>18-25</td>\n",
       "      <td>19</td>\n",
       "      <td>0</td>\n",
       "      <td>Maharashtra</td>\n",
       "      <td>Western</td>\n",
       "      <td>Healthcare</td>\n",
       "      <td>Office</td>\n",
       "      <td>3</td>\n",
       "      <td>188.0</td>\n",
       "      <td>NaN</td>\n",
       "      <td>NaN</td>\n",
       "    </tr>\n",
       "  </tbody>\n",
       "</table>\n",
       "<p>11251 rows × 15 columns</p>\n",
       "</div>"
      ],
      "text/plain": [
       "       User_ID    Cust_name Product_ID Gender Age Group  Age  Marital_Status  \\\n",
       "0      1002903    Sanskriti  P00125942      F     26-35   28               0   \n",
       "1      1000732       Kartik  P00110942      F     26-35   35               1   \n",
       "2      1001990        Bindu  P00118542      F     26-35   35               1   \n",
       "3      1001425       Sudevi  P00237842      M      0-17   16               0   \n",
       "4      1000588         Joni  P00057942      M     26-35   28               1   \n",
       "...        ...          ...        ...    ...       ...  ...             ...   \n",
       "11246  1000695      Manning  P00296942      M     18-25   19               1   \n",
       "11247  1004089  Reichenbach  P00171342      M     26-35   33               0   \n",
       "11248  1001209        Oshin  P00201342      F     36-45   40               0   \n",
       "11249  1004023       Noonan  P00059442      M     36-45   37               0   \n",
       "11250  1002744      Brumley  P00281742      F     18-25   19               0   \n",
       "\n",
       "                State      Zone       Occupation Product_Category  Orders  \\\n",
       "0         Maharashtra   Western       Healthcare             Auto       1   \n",
       "1      Andhra Pradesh  Southern             Govt             Auto       3   \n",
       "2       Uttar Pradesh   Central       Automobile             Auto       3   \n",
       "3           Karnataka  Southern     Construction             Auto       2   \n",
       "4             Gujarat   Western  Food Processing             Auto       2   \n",
       "...               ...       ...              ...              ...     ...   \n",
       "11246     Maharashtra   Western         Chemical           Office       4   \n",
       "11247         Haryana  Northern       Healthcare       Veterinary       3   \n",
       "11248  Madhya Pradesh   Central          Textile           Office       4   \n",
       "11249       Karnataka  Southern      Agriculture           Office       3   \n",
       "11250     Maharashtra   Western       Healthcare           Office       3   \n",
       "\n",
       "        Amount  Status  unnamed1  \n",
       "0      23952.0     NaN       NaN  \n",
       "1      23934.0     NaN       NaN  \n",
       "2      23924.0     NaN       NaN  \n",
       "3      23912.0     NaN       NaN  \n",
       "4      23877.0     NaN       NaN  \n",
       "...        ...     ...       ...  \n",
       "11246    370.0     NaN       NaN  \n",
       "11247    367.0     NaN       NaN  \n",
       "11248    213.0     NaN       NaN  \n",
       "11249    206.0     NaN       NaN  \n",
       "11250    188.0     NaN       NaN  \n",
       "\n",
       "[11251 rows x 15 columns]"
      ]
     },
     "execution_count": 24,
     "metadata": {},
     "output_type": "execute_result"
    }
   ],
   "source": [
    "df=pd.read_csv('Diwali Sales Data.csv', encoding = 'unicode_escape')\n",
    "# to avoid error , we are using unicode_escape while reading the data\n",
    "df"
   ]
  },
  {
   "cell_type": "code",
   "execution_count": 25,
   "id": "338be2bd",
   "metadata": {},
   "outputs": [
    {
     "data": {
      "text/plain": [
       "(11251, 15)"
      ]
     },
     "execution_count": 25,
     "metadata": {},
     "output_type": "execute_result"
    }
   ],
   "source": [
    "df.shape"
   ]
  },
  {
   "cell_type": "code",
   "execution_count": 26,
   "id": "27ddd2d9",
   "metadata": {},
   "outputs": [
    {
     "data": {
      "text/html": [
       "<div>\n",
       "<style scoped>\n",
       "    .dataframe tbody tr th:only-of-type {\n",
       "        vertical-align: middle;\n",
       "    }\n",
       "\n",
       "    .dataframe tbody tr th {\n",
       "        vertical-align: top;\n",
       "    }\n",
       "\n",
       "    .dataframe thead th {\n",
       "        text-align: right;\n",
       "    }\n",
       "</style>\n",
       "<table border=\"1\" class=\"dataframe\">\n",
       "  <thead>\n",
       "    <tr style=\"text-align: right;\">\n",
       "      <th></th>\n",
       "      <th>User_ID</th>\n",
       "      <th>Cust_name</th>\n",
       "      <th>Product_ID</th>\n",
       "      <th>Gender</th>\n",
       "      <th>Age Group</th>\n",
       "      <th>Age</th>\n",
       "      <th>Marital_Status</th>\n",
       "      <th>State</th>\n",
       "      <th>Zone</th>\n",
       "      <th>Occupation</th>\n",
       "      <th>Product_Category</th>\n",
       "      <th>Orders</th>\n",
       "      <th>Amount</th>\n",
       "      <th>Status</th>\n",
       "      <th>unnamed1</th>\n",
       "    </tr>\n",
       "  </thead>\n",
       "  <tbody>\n",
       "    <tr>\n",
       "      <th>0</th>\n",
       "      <td>1002903</td>\n",
       "      <td>Sanskriti</td>\n",
       "      <td>P00125942</td>\n",
       "      <td>F</td>\n",
       "      <td>26-35</td>\n",
       "      <td>28</td>\n",
       "      <td>0</td>\n",
       "      <td>Maharashtra</td>\n",
       "      <td>Western</td>\n",
       "      <td>Healthcare</td>\n",
       "      <td>Auto</td>\n",
       "      <td>1</td>\n",
       "      <td>23952.00</td>\n",
       "      <td>NaN</td>\n",
       "      <td>NaN</td>\n",
       "    </tr>\n",
       "    <tr>\n",
       "      <th>1</th>\n",
       "      <td>1000732</td>\n",
       "      <td>Kartik</td>\n",
       "      <td>P00110942</td>\n",
       "      <td>F</td>\n",
       "      <td>26-35</td>\n",
       "      <td>35</td>\n",
       "      <td>1</td>\n",
       "      <td>Andhra Pradesh</td>\n",
       "      <td>Southern</td>\n",
       "      <td>Govt</td>\n",
       "      <td>Auto</td>\n",
       "      <td>3</td>\n",
       "      <td>23934.00</td>\n",
       "      <td>NaN</td>\n",
       "      <td>NaN</td>\n",
       "    </tr>\n",
       "    <tr>\n",
       "      <th>2</th>\n",
       "      <td>1001990</td>\n",
       "      <td>Bindu</td>\n",
       "      <td>P00118542</td>\n",
       "      <td>F</td>\n",
       "      <td>26-35</td>\n",
       "      <td>35</td>\n",
       "      <td>1</td>\n",
       "      <td>Uttar Pradesh</td>\n",
       "      <td>Central</td>\n",
       "      <td>Automobile</td>\n",
       "      <td>Auto</td>\n",
       "      <td>3</td>\n",
       "      <td>23924.00</td>\n",
       "      <td>NaN</td>\n",
       "      <td>NaN</td>\n",
       "    </tr>\n",
       "    <tr>\n",
       "      <th>3</th>\n",
       "      <td>1001425</td>\n",
       "      <td>Sudevi</td>\n",
       "      <td>P00237842</td>\n",
       "      <td>M</td>\n",
       "      <td>0-17</td>\n",
       "      <td>16</td>\n",
       "      <td>0</td>\n",
       "      <td>Karnataka</td>\n",
       "      <td>Southern</td>\n",
       "      <td>Construction</td>\n",
       "      <td>Auto</td>\n",
       "      <td>2</td>\n",
       "      <td>23912.00</td>\n",
       "      <td>NaN</td>\n",
       "      <td>NaN</td>\n",
       "    </tr>\n",
       "    <tr>\n",
       "      <th>4</th>\n",
       "      <td>1000588</td>\n",
       "      <td>Joni</td>\n",
       "      <td>P00057942</td>\n",
       "      <td>M</td>\n",
       "      <td>26-35</td>\n",
       "      <td>28</td>\n",
       "      <td>1</td>\n",
       "      <td>Gujarat</td>\n",
       "      <td>Western</td>\n",
       "      <td>Food Processing</td>\n",
       "      <td>Auto</td>\n",
       "      <td>2</td>\n",
       "      <td>23877.00</td>\n",
       "      <td>NaN</td>\n",
       "      <td>NaN</td>\n",
       "    </tr>\n",
       "    <tr>\n",
       "      <th>5</th>\n",
       "      <td>1000588</td>\n",
       "      <td>Joni</td>\n",
       "      <td>P00057942</td>\n",
       "      <td>M</td>\n",
       "      <td>26-35</td>\n",
       "      <td>28</td>\n",
       "      <td>1</td>\n",
       "      <td>Himachal Pradesh</td>\n",
       "      <td>Northern</td>\n",
       "      <td>Food Processing</td>\n",
       "      <td>Auto</td>\n",
       "      <td>1</td>\n",
       "      <td>23877.00</td>\n",
       "      <td>NaN</td>\n",
       "      <td>NaN</td>\n",
       "    </tr>\n",
       "    <tr>\n",
       "      <th>6</th>\n",
       "      <td>1001132</td>\n",
       "      <td>Balk</td>\n",
       "      <td>P00018042</td>\n",
       "      <td>F</td>\n",
       "      <td>18-25</td>\n",
       "      <td>25</td>\n",
       "      <td>1</td>\n",
       "      <td>Uttar Pradesh</td>\n",
       "      <td>Central</td>\n",
       "      <td>Lawyer</td>\n",
       "      <td>Auto</td>\n",
       "      <td>4</td>\n",
       "      <td>23841.00</td>\n",
       "      <td>NaN</td>\n",
       "      <td>NaN</td>\n",
       "    </tr>\n",
       "    <tr>\n",
       "      <th>7</th>\n",
       "      <td>1002092</td>\n",
       "      <td>Shivangi</td>\n",
       "      <td>P00273442</td>\n",
       "      <td>F</td>\n",
       "      <td>55+</td>\n",
       "      <td>61</td>\n",
       "      <td>0</td>\n",
       "      <td>Maharashtra</td>\n",
       "      <td>Western</td>\n",
       "      <td>IT Sector</td>\n",
       "      <td>Auto</td>\n",
       "      <td>1</td>\n",
       "      <td>NaN</td>\n",
       "      <td>NaN</td>\n",
       "      <td>NaN</td>\n",
       "    </tr>\n",
       "    <tr>\n",
       "      <th>8</th>\n",
       "      <td>1003224</td>\n",
       "      <td>Kushal</td>\n",
       "      <td>P00205642</td>\n",
       "      <td>M</td>\n",
       "      <td>26-35</td>\n",
       "      <td>35</td>\n",
       "      <td>0</td>\n",
       "      <td>Uttar Pradesh</td>\n",
       "      <td>Central</td>\n",
       "      <td>Govt</td>\n",
       "      <td>Auto</td>\n",
       "      <td>2</td>\n",
       "      <td>23809.00</td>\n",
       "      <td>NaN</td>\n",
       "      <td>NaN</td>\n",
       "    </tr>\n",
       "    <tr>\n",
       "      <th>9</th>\n",
       "      <td>1003650</td>\n",
       "      <td>Ginny</td>\n",
       "      <td>P00031142</td>\n",
       "      <td>F</td>\n",
       "      <td>26-35</td>\n",
       "      <td>26</td>\n",
       "      <td>1</td>\n",
       "      <td>Andhra Pradesh</td>\n",
       "      <td>Southern</td>\n",
       "      <td>Media</td>\n",
       "      <td>Auto</td>\n",
       "      <td>4</td>\n",
       "      <td>23799.99</td>\n",
       "      <td>NaN</td>\n",
       "      <td>NaN</td>\n",
       "    </tr>\n",
       "  </tbody>\n",
       "</table>\n",
       "</div>"
      ],
      "text/plain": [
       "   User_ID  Cust_name Product_ID Gender Age Group  Age  Marital_Status  \\\n",
       "0  1002903  Sanskriti  P00125942      F     26-35   28               0   \n",
       "1  1000732     Kartik  P00110942      F     26-35   35               1   \n",
       "2  1001990      Bindu  P00118542      F     26-35   35               1   \n",
       "3  1001425     Sudevi  P00237842      M      0-17   16               0   \n",
       "4  1000588       Joni  P00057942      M     26-35   28               1   \n",
       "5  1000588       Joni  P00057942      M     26-35   28               1   \n",
       "6  1001132       Balk  P00018042      F     18-25   25               1   \n",
       "7  1002092   Shivangi  P00273442      F       55+   61               0   \n",
       "8  1003224     Kushal  P00205642      M     26-35   35               0   \n",
       "9  1003650      Ginny  P00031142      F     26-35   26               1   \n",
       "\n",
       "              State      Zone       Occupation Product_Category  Orders  \\\n",
       "0       Maharashtra   Western       Healthcare             Auto       1   \n",
       "1    Andhra Pradesh  Southern             Govt             Auto       3   \n",
       "2     Uttar Pradesh   Central       Automobile             Auto       3   \n",
       "3         Karnataka  Southern     Construction             Auto       2   \n",
       "4           Gujarat   Western  Food Processing             Auto       2   \n",
       "5  Himachal Pradesh  Northern  Food Processing             Auto       1   \n",
       "6     Uttar Pradesh   Central           Lawyer             Auto       4   \n",
       "7       Maharashtra   Western        IT Sector             Auto       1   \n",
       "8     Uttar Pradesh   Central             Govt             Auto       2   \n",
       "9    Andhra Pradesh  Southern            Media             Auto       4   \n",
       "\n",
       "     Amount  Status  unnamed1  \n",
       "0  23952.00     NaN       NaN  \n",
       "1  23934.00     NaN       NaN  \n",
       "2  23924.00     NaN       NaN  \n",
       "3  23912.00     NaN       NaN  \n",
       "4  23877.00     NaN       NaN  \n",
       "5  23877.00     NaN       NaN  \n",
       "6  23841.00     NaN       NaN  \n",
       "7       NaN     NaN       NaN  \n",
       "8  23809.00     NaN       NaN  \n",
       "9  23799.99     NaN       NaN  "
      ]
     },
     "execution_count": 26,
     "metadata": {},
     "output_type": "execute_result"
    }
   ],
   "source": [
    "df.head(10)"
   ]
  },
  {
   "cell_type": "code",
   "execution_count": 27,
   "id": "becb4034",
   "metadata": {},
   "outputs": [
    {
     "name": "stdout",
     "output_type": "stream",
     "text": [
      "<class 'pandas.core.frame.DataFrame'>\n",
      "RangeIndex: 11251 entries, 0 to 11250\n",
      "Data columns (total 15 columns):\n",
      " #   Column            Non-Null Count  Dtype  \n",
      "---  ------            --------------  -----  \n",
      " 0   User_ID           11251 non-null  int64  \n",
      " 1   Cust_name         11251 non-null  object \n",
      " 2   Product_ID        11251 non-null  object \n",
      " 3   Gender            11251 non-null  object \n",
      " 4   Age Group         11251 non-null  object \n",
      " 5   Age               11251 non-null  int64  \n",
      " 6   Marital_Status    11251 non-null  int64  \n",
      " 7   State             11251 non-null  object \n",
      " 8   Zone              11251 non-null  object \n",
      " 9   Occupation        11251 non-null  object \n",
      " 10  Product_Category  11251 non-null  object \n",
      " 11  Orders            11251 non-null  int64  \n",
      " 12  Amount            11239 non-null  float64\n",
      " 13  Status            0 non-null      float64\n",
      " 14  unnamed1          0 non-null      float64\n",
      "dtypes: float64(3), int64(4), object(8)\n",
      "memory usage: 1.3+ MB\n"
     ]
    }
   ],
   "source": [
    "df.info()"
   ]
  },
  {
   "cell_type": "code",
   "execution_count": 28,
   "id": "33b67383",
   "metadata": {},
   "outputs": [],
   "source": [
    "# dropping unnecessary column\n",
    "df.drop(['Status','unnamed1'], axis =1, inplace= True)\n",
    "#USE OF INPLACE= TRUE\n",
    "#This means that the function will make changes to the original data frame, \n",
    "#rather than returning a new data frame with the changes made.\n"
   ]
  },
  {
   "cell_type": "code",
   "execution_count": 36,
   "id": "cfe46545",
   "metadata": {},
   "outputs": [
    {
     "data": {
      "text/plain": [
       "User_ID              0\n",
       "Cust_name            0\n",
       "Product_ID           0\n",
       "Gender               0\n",
       "Age Group            0\n",
       "Age                  0\n",
       "Marital_Status       0\n",
       "State                0\n",
       "Zone                 0\n",
       "Occupation           0\n",
       "Product_Category     0\n",
       "Orders               0\n",
       "Amount              12\n",
       "dtype: int64"
      ]
     },
     "execution_count": 36,
     "metadata": {},
     "output_type": "execute_result"
    }
   ],
   "source": [
    "pd.isnull(df).sum()"
   ]
  },
  {
   "cell_type": "code",
   "execution_count": 38,
   "id": "5493e838",
   "metadata": {},
   "outputs": [
    {
     "data": {
      "text/plain": [
       "(11251, 13)"
      ]
     },
     "execution_count": 38,
     "metadata": {},
     "output_type": "execute_result"
    }
   ],
   "source": [
    "df.shape"
   ]
  },
  {
   "cell_type": "code",
   "execution_count": 39,
   "id": "4a57e053",
   "metadata": {},
   "outputs": [],
   "source": [
    "df.dropna(inplace = True)"
   ]
  },
  {
   "cell_type": "code",
   "execution_count": 40,
   "id": "2a6d1ee8",
   "metadata": {},
   "outputs": [
    {
     "data": {
      "text/plain": [
       "(11239, 13)"
      ]
     },
     "execution_count": 40,
     "metadata": {},
     "output_type": "execute_result"
    }
   ],
   "source": [
    "df.shape"
   ]
  },
  {
   "cell_type": "markdown",
   "id": "f84366ea",
   "metadata": {},
   "source": [
    "# understanding inplace= true"
   ]
  },
  {
   "cell_type": "code",
   "execution_count": 46,
   "id": "43d2e415",
   "metadata": {},
   "outputs": [
    {
     "data": {
      "text/html": [
       "<div>\n",
       "<style scoped>\n",
       "    .dataframe tbody tr th:only-of-type {\n",
       "        vertical-align: middle;\n",
       "    }\n",
       "\n",
       "    .dataframe tbody tr th {\n",
       "        vertical-align: top;\n",
       "    }\n",
       "\n",
       "    .dataframe thead th {\n",
       "        text-align: right;\n",
       "    }\n",
       "</style>\n",
       "<table border=\"1\" class=\"dataframe\">\n",
       "  <thead>\n",
       "    <tr style=\"text-align: right;\">\n",
       "      <th></th>\n",
       "      <th>Name</th>\n",
       "      <th>Ballon_dor</th>\n",
       "    </tr>\n",
       "  </thead>\n",
       "  <tbody>\n",
       "    <tr>\n",
       "      <th>0</th>\n",
       "      <td>Messi</td>\n",
       "      <td>8.0</td>\n",
       "    </tr>\n",
       "    <tr>\n",
       "      <th>1</th>\n",
       "      <td>Ronaldo</td>\n",
       "      <td>5.0</td>\n",
       "    </tr>\n",
       "    <tr>\n",
       "      <th>2</th>\n",
       "      <td>Modric</td>\n",
       "      <td>1.0</td>\n",
       "    </tr>\n",
       "    <tr>\n",
       "      <th>3</th>\n",
       "      <td>Haaland</td>\n",
       "      <td>NaN</td>\n",
       "    </tr>\n",
       "  </tbody>\n",
       "</table>\n",
       "</div>"
      ],
      "text/plain": [
       "      Name  Ballon_dor\n",
       "0    Messi         8.0\n",
       "1  Ronaldo         5.0\n",
       "2   Modric         1.0\n",
       "3  Haaland         NaN"
      ]
     },
     "execution_count": 46,
     "metadata": {},
     "output_type": "execute_result"
    }
   ],
   "source": [
    "dataset_test = [['Messi', 8],['Ronaldo', 5],['Modric',1],['Haaland']]\n",
    "\n",
    "df_test= pd.DataFrame(dataset_test,columns=['Name','Ballon_dor'])\n",
    "df_test"
   ]
  },
  {
   "cell_type": "code",
   "execution_count": 52,
   "id": "bfe1496c",
   "metadata": {},
   "outputs": [
    {
     "data": {
      "text/html": [
       "<div>\n",
       "<style scoped>\n",
       "    .dataframe tbody tr th:only-of-type {\n",
       "        vertical-align: middle;\n",
       "    }\n",
       "\n",
       "    .dataframe tbody tr th {\n",
       "        vertical-align: top;\n",
       "    }\n",
       "\n",
       "    .dataframe thead th {\n",
       "        text-align: right;\n",
       "    }\n",
       "</style>\n",
       "<table border=\"1\" class=\"dataframe\">\n",
       "  <thead>\n",
       "    <tr style=\"text-align: right;\">\n",
       "      <th></th>\n",
       "      <th>Name</th>\n",
       "      <th>Ballon_dor</th>\n",
       "    </tr>\n",
       "  </thead>\n",
       "  <tbody>\n",
       "    <tr>\n",
       "      <th>0</th>\n",
       "      <td>Messi</td>\n",
       "      <td>8.0</td>\n",
       "    </tr>\n",
       "    <tr>\n",
       "      <th>1</th>\n",
       "      <td>Ronaldo</td>\n",
       "      <td>5.0</td>\n",
       "    </tr>\n",
       "    <tr>\n",
       "      <th>2</th>\n",
       "      <td>Modric</td>\n",
       "      <td>1.0</td>\n",
       "    </tr>\n",
       "  </tbody>\n",
       "</table>\n",
       "</div>"
      ],
      "text/plain": [
       "      Name  Ballon_dor\n",
       "0    Messi         8.0\n",
       "1  Ronaldo         5.0\n",
       "2   Modric         1.0"
      ]
     },
     "execution_count": 52,
     "metadata": {},
     "output_type": "execute_result"
    }
   ],
   "source": [
    "df_test.dropna()"
   ]
  },
  {
   "cell_type": "code",
   "execution_count": 54,
   "id": "760a12ab",
   "metadata": {},
   "outputs": [
    {
     "data": {
      "text/html": [
       "<div>\n",
       "<style scoped>\n",
       "    .dataframe tbody tr th:only-of-type {\n",
       "        vertical-align: middle;\n",
       "    }\n",
       "\n",
       "    .dataframe tbody tr th {\n",
       "        vertical-align: top;\n",
       "    }\n",
       "\n",
       "    .dataframe thead th {\n",
       "        text-align: right;\n",
       "    }\n",
       "</style>\n",
       "<table border=\"1\" class=\"dataframe\">\n",
       "  <thead>\n",
       "    <tr style=\"text-align: right;\">\n",
       "      <th></th>\n",
       "      <th>Name</th>\n",
       "      <th>Ballon_dor</th>\n",
       "    </tr>\n",
       "  </thead>\n",
       "  <tbody>\n",
       "    <tr>\n",
       "      <th>0</th>\n",
       "      <td>Messi</td>\n",
       "      <td>8.0</td>\n",
       "    </tr>\n",
       "    <tr>\n",
       "      <th>1</th>\n",
       "      <td>Ronaldo</td>\n",
       "      <td>5.0</td>\n",
       "    </tr>\n",
       "    <tr>\n",
       "      <th>2</th>\n",
       "      <td>Modric</td>\n",
       "      <td>1.0</td>\n",
       "    </tr>\n",
       "  </tbody>\n",
       "</table>\n",
       "</div>"
      ],
      "text/plain": [
       "      Name  Ballon_dor\n",
       "0    Messi         8.0\n",
       "1  Ronaldo         5.0\n",
       "2   Modric         1.0"
      ]
     },
     "execution_count": 54,
     "metadata": {},
     "output_type": "execute_result"
    }
   ],
   "source": [
    "df_test # IF I USE INPLACE=TRUE then the original dataset(df_test) whould have been changed"
   ]
  },
  {
   "cell_type": "markdown",
   "id": "fb720534",
   "metadata": {},
   "source": [
    "# Back to our main task"
   ]
  },
  {
   "cell_type": "code",
   "execution_count": 55,
   "id": "818c099a",
   "metadata": {},
   "outputs": [
    {
     "name": "stdout",
     "output_type": "stream",
     "text": [
      "<class 'pandas.core.frame.DataFrame'>\n",
      "Int64Index: 11239 entries, 0 to 11250\n",
      "Data columns (total 13 columns):\n",
      " #   Column            Non-Null Count  Dtype  \n",
      "---  ------            --------------  -----  \n",
      " 0   User_ID           11239 non-null  int64  \n",
      " 1   Cust_name         11239 non-null  object \n",
      " 2   Product_ID        11239 non-null  object \n",
      " 3   Gender            11239 non-null  object \n",
      " 4   Age Group         11239 non-null  object \n",
      " 5   Age               11239 non-null  int64  \n",
      " 6   Marital_Status    11239 non-null  int64  \n",
      " 7   State             11239 non-null  object \n",
      " 8   Zone              11239 non-null  object \n",
      " 9   Occupation        11239 non-null  object \n",
      " 10  Product_Category  11239 non-null  object \n",
      " 11  Orders            11239 non-null  int64  \n",
      " 12  Amount            11239 non-null  float64\n",
      "dtypes: float64(1), int64(4), object(8)\n",
      "memory usage: 1.2+ MB\n"
     ]
    }
   ],
   "source": [
    "df.info()"
   ]
  },
  {
   "cell_type": "code",
   "execution_count": 58,
   "id": "bc87fc59",
   "metadata": {},
   "outputs": [],
   "source": [
    "# Changing the data type of the column\n",
    "df['Amount']= df['Amount'].astype('int64')"
   ]
  },
  {
   "cell_type": "code",
   "execution_count": 63,
   "id": "a7ca1db3",
   "metadata": {},
   "outputs": [
    {
     "data": {
      "text/html": [
       "<div>\n",
       "<style scoped>\n",
       "    .dataframe tbody tr th:only-of-type {\n",
       "        vertical-align: middle;\n",
       "    }\n",
       "\n",
       "    .dataframe tbody tr th {\n",
       "        vertical-align: top;\n",
       "    }\n",
       "\n",
       "    .dataframe thead th {\n",
       "        text-align: right;\n",
       "    }\n",
       "</style>\n",
       "<table border=\"1\" class=\"dataframe\">\n",
       "  <thead>\n",
       "    <tr style=\"text-align: right;\">\n",
       "      <th></th>\n",
       "      <th>User_ID</th>\n",
       "      <th>Customer_name</th>\n",
       "      <th>Product_ID</th>\n",
       "      <th>Gender</th>\n",
       "      <th>Age Group</th>\n",
       "      <th>Age</th>\n",
       "      <th>Marital_Status</th>\n",
       "      <th>State</th>\n",
       "      <th>Zone</th>\n",
       "      <th>Occupation</th>\n",
       "      <th>Product_Category</th>\n",
       "      <th>Orders</th>\n",
       "      <th>Amount</th>\n",
       "    </tr>\n",
       "  </thead>\n",
       "  <tbody>\n",
       "    <tr>\n",
       "      <th>0</th>\n",
       "      <td>1002903</td>\n",
       "      <td>Sanskriti</td>\n",
       "      <td>P00125942</td>\n",
       "      <td>F</td>\n",
       "      <td>26-35</td>\n",
       "      <td>28</td>\n",
       "      <td>0</td>\n",
       "      <td>Maharashtra</td>\n",
       "      <td>Western</td>\n",
       "      <td>Healthcare</td>\n",
       "      <td>Auto</td>\n",
       "      <td>1</td>\n",
       "      <td>23952</td>\n",
       "    </tr>\n",
       "    <tr>\n",
       "      <th>1</th>\n",
       "      <td>1000732</td>\n",
       "      <td>Kartik</td>\n",
       "      <td>P00110942</td>\n",
       "      <td>F</td>\n",
       "      <td>26-35</td>\n",
       "      <td>35</td>\n",
       "      <td>1</td>\n",
       "      <td>Andhra Pradesh</td>\n",
       "      <td>Southern</td>\n",
       "      <td>Govt</td>\n",
       "      <td>Auto</td>\n",
       "      <td>3</td>\n",
       "      <td>23934</td>\n",
       "    </tr>\n",
       "    <tr>\n",
       "      <th>2</th>\n",
       "      <td>1001990</td>\n",
       "      <td>Bindu</td>\n",
       "      <td>P00118542</td>\n",
       "      <td>F</td>\n",
       "      <td>26-35</td>\n",
       "      <td>35</td>\n",
       "      <td>1</td>\n",
       "      <td>Uttar Pradesh</td>\n",
       "      <td>Central</td>\n",
       "      <td>Automobile</td>\n",
       "      <td>Auto</td>\n",
       "      <td>3</td>\n",
       "      <td>23924</td>\n",
       "    </tr>\n",
       "    <tr>\n",
       "      <th>3</th>\n",
       "      <td>1001425</td>\n",
       "      <td>Sudevi</td>\n",
       "      <td>P00237842</td>\n",
       "      <td>M</td>\n",
       "      <td>0-17</td>\n",
       "      <td>16</td>\n",
       "      <td>0</td>\n",
       "      <td>Karnataka</td>\n",
       "      <td>Southern</td>\n",
       "      <td>Construction</td>\n",
       "      <td>Auto</td>\n",
       "      <td>2</td>\n",
       "      <td>23912</td>\n",
       "    </tr>\n",
       "    <tr>\n",
       "      <th>4</th>\n",
       "      <td>1000588</td>\n",
       "      <td>Joni</td>\n",
       "      <td>P00057942</td>\n",
       "      <td>M</td>\n",
       "      <td>26-35</td>\n",
       "      <td>28</td>\n",
       "      <td>1</td>\n",
       "      <td>Gujarat</td>\n",
       "      <td>Western</td>\n",
       "      <td>Food Processing</td>\n",
       "      <td>Auto</td>\n",
       "      <td>2</td>\n",
       "      <td>23877</td>\n",
       "    </tr>\n",
       "    <tr>\n",
       "      <th>...</th>\n",
       "      <td>...</td>\n",
       "      <td>...</td>\n",
       "      <td>...</td>\n",
       "      <td>...</td>\n",
       "      <td>...</td>\n",
       "      <td>...</td>\n",
       "      <td>...</td>\n",
       "      <td>...</td>\n",
       "      <td>...</td>\n",
       "      <td>...</td>\n",
       "      <td>...</td>\n",
       "      <td>...</td>\n",
       "      <td>...</td>\n",
       "    </tr>\n",
       "    <tr>\n",
       "      <th>11246</th>\n",
       "      <td>1000695</td>\n",
       "      <td>Manning</td>\n",
       "      <td>P00296942</td>\n",
       "      <td>M</td>\n",
       "      <td>18-25</td>\n",
       "      <td>19</td>\n",
       "      <td>1</td>\n",
       "      <td>Maharashtra</td>\n",
       "      <td>Western</td>\n",
       "      <td>Chemical</td>\n",
       "      <td>Office</td>\n",
       "      <td>4</td>\n",
       "      <td>370</td>\n",
       "    </tr>\n",
       "    <tr>\n",
       "      <th>11247</th>\n",
       "      <td>1004089</td>\n",
       "      <td>Reichenbach</td>\n",
       "      <td>P00171342</td>\n",
       "      <td>M</td>\n",
       "      <td>26-35</td>\n",
       "      <td>33</td>\n",
       "      <td>0</td>\n",
       "      <td>Haryana</td>\n",
       "      <td>Northern</td>\n",
       "      <td>Healthcare</td>\n",
       "      <td>Veterinary</td>\n",
       "      <td>3</td>\n",
       "      <td>367</td>\n",
       "    </tr>\n",
       "    <tr>\n",
       "      <th>11248</th>\n",
       "      <td>1001209</td>\n",
       "      <td>Oshin</td>\n",
       "      <td>P00201342</td>\n",
       "      <td>F</td>\n",
       "      <td>36-45</td>\n",
       "      <td>40</td>\n",
       "      <td>0</td>\n",
       "      <td>Madhya Pradesh</td>\n",
       "      <td>Central</td>\n",
       "      <td>Textile</td>\n",
       "      <td>Office</td>\n",
       "      <td>4</td>\n",
       "      <td>213</td>\n",
       "    </tr>\n",
       "    <tr>\n",
       "      <th>11249</th>\n",
       "      <td>1004023</td>\n",
       "      <td>Noonan</td>\n",
       "      <td>P00059442</td>\n",
       "      <td>M</td>\n",
       "      <td>36-45</td>\n",
       "      <td>37</td>\n",
       "      <td>0</td>\n",
       "      <td>Karnataka</td>\n",
       "      <td>Southern</td>\n",
       "      <td>Agriculture</td>\n",
       "      <td>Office</td>\n",
       "      <td>3</td>\n",
       "      <td>206</td>\n",
       "    </tr>\n",
       "    <tr>\n",
       "      <th>11250</th>\n",
       "      <td>1002744</td>\n",
       "      <td>Brumley</td>\n",
       "      <td>P00281742</td>\n",
       "      <td>F</td>\n",
       "      <td>18-25</td>\n",
       "      <td>19</td>\n",
       "      <td>0</td>\n",
       "      <td>Maharashtra</td>\n",
       "      <td>Western</td>\n",
       "      <td>Healthcare</td>\n",
       "      <td>Office</td>\n",
       "      <td>3</td>\n",
       "      <td>188</td>\n",
       "    </tr>\n",
       "  </tbody>\n",
       "</table>\n",
       "<p>11239 rows × 13 columns</p>\n",
       "</div>"
      ],
      "text/plain": [
       "       User_ID Customer_name Product_ID Gender Age Group  Age  Marital_Status  \\\n",
       "0      1002903     Sanskriti  P00125942      F     26-35   28               0   \n",
       "1      1000732        Kartik  P00110942      F     26-35   35               1   \n",
       "2      1001990         Bindu  P00118542      F     26-35   35               1   \n",
       "3      1001425        Sudevi  P00237842      M      0-17   16               0   \n",
       "4      1000588          Joni  P00057942      M     26-35   28               1   \n",
       "...        ...           ...        ...    ...       ...  ...             ...   \n",
       "11246  1000695       Manning  P00296942      M     18-25   19               1   \n",
       "11247  1004089   Reichenbach  P00171342      M     26-35   33               0   \n",
       "11248  1001209         Oshin  P00201342      F     36-45   40               0   \n",
       "11249  1004023        Noonan  P00059442      M     36-45   37               0   \n",
       "11250  1002744       Brumley  P00281742      F     18-25   19               0   \n",
       "\n",
       "                State      Zone       Occupation Product_Category  Orders  \\\n",
       "0         Maharashtra   Western       Healthcare             Auto       1   \n",
       "1      Andhra Pradesh  Southern             Govt             Auto       3   \n",
       "2       Uttar Pradesh   Central       Automobile             Auto       3   \n",
       "3           Karnataka  Southern     Construction             Auto       2   \n",
       "4             Gujarat   Western  Food Processing             Auto       2   \n",
       "...               ...       ...              ...              ...     ...   \n",
       "11246     Maharashtra   Western         Chemical           Office       4   \n",
       "11247         Haryana  Northern       Healthcare       Veterinary       3   \n",
       "11248  Madhya Pradesh   Central          Textile           Office       4   \n",
       "11249       Karnataka  Southern      Agriculture           Office       3   \n",
       "11250     Maharashtra   Western       Healthcare           Office       3   \n",
       "\n",
       "       Amount  \n",
       "0       23952  \n",
       "1       23934  \n",
       "2       23924  \n",
       "3       23912  \n",
       "4       23877  \n",
       "...       ...  \n",
       "11246     370  \n",
       "11247     367  \n",
       "11248     213  \n",
       "11249     206  \n",
       "11250     188  \n",
       "\n",
       "[11239 rows x 13 columns]"
      ]
     },
     "execution_count": 63,
     "metadata": {},
     "output_type": "execute_result"
    }
   ],
   "source": [
    "# renaming the column \n",
    "df.rename(columns={'Cust_name':'Customer_name'})"
   ]
  },
  {
   "cell_type": "code",
   "execution_count": 65,
   "id": "fc9b9537",
   "metadata": {},
   "outputs": [
    {
     "data": {
      "text/html": [
       "<div>\n",
       "<style scoped>\n",
       "    .dataframe tbody tr th:only-of-type {\n",
       "        vertical-align: middle;\n",
       "    }\n",
       "\n",
       "    .dataframe tbody tr th {\n",
       "        vertical-align: top;\n",
       "    }\n",
       "\n",
       "    .dataframe thead th {\n",
       "        text-align: right;\n",
       "    }\n",
       "</style>\n",
       "<table border=\"1\" class=\"dataframe\">\n",
       "  <thead>\n",
       "    <tr style=\"text-align: right;\">\n",
       "      <th></th>\n",
       "      <th>User_ID</th>\n",
       "      <th>Age</th>\n",
       "      <th>Marital_Status</th>\n",
       "      <th>Orders</th>\n",
       "      <th>Amount</th>\n",
       "    </tr>\n",
       "  </thead>\n",
       "  <tbody>\n",
       "    <tr>\n",
       "      <th>count</th>\n",
       "      <td>1.123900e+04</td>\n",
       "      <td>11239.000000</td>\n",
       "      <td>11239.000000</td>\n",
       "      <td>11239.000000</td>\n",
       "      <td>11239.000000</td>\n",
       "    </tr>\n",
       "    <tr>\n",
       "      <th>mean</th>\n",
       "      <td>1.003004e+06</td>\n",
       "      <td>35.410357</td>\n",
       "      <td>0.420055</td>\n",
       "      <td>2.489634</td>\n",
       "      <td>9453.610553</td>\n",
       "    </tr>\n",
       "    <tr>\n",
       "      <th>std</th>\n",
       "      <td>1.716039e+03</td>\n",
       "      <td>12.753866</td>\n",
       "      <td>0.493589</td>\n",
       "      <td>1.114967</td>\n",
       "      <td>5222.355168</td>\n",
       "    </tr>\n",
       "    <tr>\n",
       "      <th>min</th>\n",
       "      <td>1.000001e+06</td>\n",
       "      <td>12.000000</td>\n",
       "      <td>0.000000</td>\n",
       "      <td>1.000000</td>\n",
       "      <td>188.000000</td>\n",
       "    </tr>\n",
       "    <tr>\n",
       "      <th>25%</th>\n",
       "      <td>1.001492e+06</td>\n",
       "      <td>27.000000</td>\n",
       "      <td>0.000000</td>\n",
       "      <td>2.000000</td>\n",
       "      <td>5443.000000</td>\n",
       "    </tr>\n",
       "    <tr>\n",
       "      <th>50%</th>\n",
       "      <td>1.003064e+06</td>\n",
       "      <td>33.000000</td>\n",
       "      <td>0.000000</td>\n",
       "      <td>2.000000</td>\n",
       "      <td>8109.000000</td>\n",
       "    </tr>\n",
       "    <tr>\n",
       "      <th>75%</th>\n",
       "      <td>1.004426e+06</td>\n",
       "      <td>43.000000</td>\n",
       "      <td>1.000000</td>\n",
       "      <td>3.000000</td>\n",
       "      <td>12675.000000</td>\n",
       "    </tr>\n",
       "    <tr>\n",
       "      <th>max</th>\n",
       "      <td>1.006040e+06</td>\n",
       "      <td>92.000000</td>\n",
       "      <td>1.000000</td>\n",
       "      <td>4.000000</td>\n",
       "      <td>23952.000000</td>\n",
       "    </tr>\n",
       "  </tbody>\n",
       "</table>\n",
       "</div>"
      ],
      "text/plain": [
       "            User_ID           Age  Marital_Status        Orders        Amount\n",
       "count  1.123900e+04  11239.000000    11239.000000  11239.000000  11239.000000\n",
       "mean   1.003004e+06     35.410357        0.420055      2.489634   9453.610553\n",
       "std    1.716039e+03     12.753866        0.493589      1.114967   5222.355168\n",
       "min    1.000001e+06     12.000000        0.000000      1.000000    188.000000\n",
       "25%    1.001492e+06     27.000000        0.000000      2.000000   5443.000000\n",
       "50%    1.003064e+06     33.000000        0.000000      2.000000   8109.000000\n",
       "75%    1.004426e+06     43.000000        1.000000      3.000000  12675.000000\n",
       "max    1.006040e+06     92.000000        1.000000      4.000000  23952.000000"
      ]
     },
     "execution_count": 65,
     "metadata": {},
     "output_type": "execute_result"
    }
   ],
   "source": [
    "df.describe()"
   ]
  },
  {
   "cell_type": "code",
   "execution_count": 67,
   "id": "ca303ca7",
   "metadata": {},
   "outputs": [
    {
     "data": {
      "text/html": [
       "<div>\n",
       "<style scoped>\n",
       "    .dataframe tbody tr th:only-of-type {\n",
       "        vertical-align: middle;\n",
       "    }\n",
       "\n",
       "    .dataframe tbody tr th {\n",
       "        vertical-align: top;\n",
       "    }\n",
       "\n",
       "    .dataframe thead th {\n",
       "        text-align: right;\n",
       "    }\n",
       "</style>\n",
       "<table border=\"1\" class=\"dataframe\">\n",
       "  <thead>\n",
       "    <tr style=\"text-align: right;\">\n",
       "      <th></th>\n",
       "      <th>Age</th>\n",
       "      <th>Amount</th>\n",
       "    </tr>\n",
       "  </thead>\n",
       "  <tbody>\n",
       "    <tr>\n",
       "      <th>count</th>\n",
       "      <td>11239.000000</td>\n",
       "      <td>11239.000000</td>\n",
       "    </tr>\n",
       "    <tr>\n",
       "      <th>mean</th>\n",
       "      <td>35.410357</td>\n",
       "      <td>9453.610553</td>\n",
       "    </tr>\n",
       "    <tr>\n",
       "      <th>std</th>\n",
       "      <td>12.753866</td>\n",
       "      <td>5222.355168</td>\n",
       "    </tr>\n",
       "    <tr>\n",
       "      <th>min</th>\n",
       "      <td>12.000000</td>\n",
       "      <td>188.000000</td>\n",
       "    </tr>\n",
       "    <tr>\n",
       "      <th>25%</th>\n",
       "      <td>27.000000</td>\n",
       "      <td>5443.000000</td>\n",
       "    </tr>\n",
       "    <tr>\n",
       "      <th>50%</th>\n",
       "      <td>33.000000</td>\n",
       "      <td>8109.000000</td>\n",
       "    </tr>\n",
       "    <tr>\n",
       "      <th>75%</th>\n",
       "      <td>43.000000</td>\n",
       "      <td>12675.000000</td>\n",
       "    </tr>\n",
       "    <tr>\n",
       "      <th>max</th>\n",
       "      <td>92.000000</td>\n",
       "      <td>23952.000000</td>\n",
       "    </tr>\n",
       "  </tbody>\n",
       "</table>\n",
       "</div>"
      ],
      "text/plain": [
       "                Age        Amount\n",
       "count  11239.000000  11239.000000\n",
       "mean      35.410357   9453.610553\n",
       "std       12.753866   5222.355168\n",
       "min       12.000000    188.000000\n",
       "25%       27.000000   5443.000000\n",
       "50%       33.000000   8109.000000\n",
       "75%       43.000000  12675.000000\n",
       "max       92.000000  23952.000000"
      ]
     },
     "execution_count": 67,
     "metadata": {},
     "output_type": "execute_result"
    }
   ],
   "source": [
    "df[['Age','Amount']].describe()"
   ]
  },
  {
   "cell_type": "markdown",
   "id": "a4766c4e",
   "metadata": {},
   "source": [
    "# EXPLORATORY DATA ANALYSIS"
   ]
  },
  {
   "cell_type": "code",
   "execution_count": 68,
   "id": "44abfa1a",
   "metadata": {},
   "outputs": [
    {
     "name": "stdout",
     "output_type": "stream",
     "text": [
      "<class 'pandas.core.frame.DataFrame'>\n",
      "Int64Index: 11239 entries, 0 to 11250\n",
      "Data columns (total 13 columns):\n",
      " #   Column            Non-Null Count  Dtype \n",
      "---  ------            --------------  ----- \n",
      " 0   User_ID           11239 non-null  int64 \n",
      " 1   Cust_name         11239 non-null  object\n",
      " 2   Product_ID        11239 non-null  object\n",
      " 3   Gender            11239 non-null  object\n",
      " 4   Age Group         11239 non-null  object\n",
      " 5   Age               11239 non-null  int64 \n",
      " 6   Marital_Status    11239 non-null  int64 \n",
      " 7   State             11239 non-null  object\n",
      " 8   Zone              11239 non-null  object\n",
      " 9   Occupation        11239 non-null  object\n",
      " 10  Product_Category  11239 non-null  object\n",
      " 11  Orders            11239 non-null  int64 \n",
      " 12  Amount            11239 non-null  int64 \n",
      "dtypes: int64(5), object(8)\n",
      "memory usage: 1.2+ MB\n"
     ]
    }
   ],
   "source": [
    "df.info()"
   ]
  },
  {
   "cell_type": "markdown",
   "id": "675acfdd",
   "metadata": {},
   "source": [
    "# gender"
   ]
  },
  {
   "cell_type": "code",
   "execution_count": 75,
   "id": "8e7247ae",
   "metadata": {},
   "outputs": [
    {
     "data": {
      "image/png": "[encoded data removed]",
      "text/plain": [
       "<Figure size 432x288 with 1 Axes>"
      ]
     },
     "metadata": {
      "needs_background": "light"
     },
     "output_type": "display_data"
    }
   ],
   "source": [
    "custom_palette = {'M': 'blue', 'F': 'pink', 'Other': 'green'}\n",
    "ax = sns.countplot(x='Gender', data=df, palette=custom_palette)\n",
    "\n",
    "for bars in ax.containers:\n",
    "    ax.bar_label(bars)"
   ]
  },
  {
   "cell_type": "code",
   "execution_count": 81,
   "id": "d59000e9",
   "metadata": {},
   "outputs": [],
   "source": [
    "x =df.groupby(['Gender'], as_index= False)['Amount'].sum().sort_values(by= 'Amount' , ascending= False)"
   ]
  },
  {
   "cell_type": "code",
   "execution_count": 86,
   "id": "3b88fb22",
   "metadata": {},
   "outputs": [
    {
     "data": {
      "image/png": "[encoded data removed]",
      "text/plain": [
       "<Figure size 432x288 with 1 Axes>"
      ]
     },
     "metadata": {
      "needs_background": "light"
     },
     "output_type": "display_data"
    }
   ],
   "source": [
    "ax =sns.barplot(x='Gender', y='Amount',data= x)\n",
    "for bars in ax.containers:\n",
    "    ax.bar_label(bars)"
   ]
  },
  {
   "cell_type": "markdown",
   "id": "e0e42dd1",
   "metadata": {},
   "source": [
    "FROM THE ABOVE GRAPHS WE CAN UNDERSTAND FEMALE BUYERS ARE MORE IN COMPARISION TO MEN AND ALSO THEY ARE SPEDING MORE."
   ]
  },
  {
   "cell_type": "markdown",
   "id": "530cd3ce",
   "metadata": {},
   "source": [
    "# Age"
   ]
  },
  {
   "cell_type": "code",
   "execution_count": 91,
   "id": "6e189368",
   "metadata": {},
   "outputs": [
    {
     "data": {
      "image/png": "[encoded data removed]",
      "text/plain": [
       "<Figure size 432x288 with 1 Axes>"
      ]
     },
     "metadata": {
      "needs_background": "light"
     },
     "output_type": "display_data"
    }
   ],
   "source": [
    "custom_palette = {'M': 'Black', 'F': 'pink', 'Other': 'green'}\n",
    "ax = sns.countplot(x='Age Group', data=df, hue='Gender',palette=custom_palette)\n",
    "\n",
    "for bars in ax.containers:\n",
    "    ax.bar_label(bars)"
   ]
  },
  {
   "cell_type": "code",
   "execution_count": 96,
   "id": "f3470665",
   "metadata": {},
   "outputs": [
    {
     "data": {
      "text/html": [
       "<div>\n",
       "<style scoped>\n",
       "    .dataframe tbody tr th:only-of-type {\n",
       "        vertical-align: middle;\n",
       "    }\n",
       "\n",
       "    .dataframe tbody tr th {\n",
       "        vertical-align: top;\n",
       "    }\n",
       "\n",
       "    .dataframe thead th {\n",
       "        text-align: right;\n",
       "    }\n",
       "</style>\n",
       "<table border=\"1\" class=\"dataframe\">\n",
       "  <thead>\n",
       "    <tr style=\"text-align: right;\">\n",
       "      <th></th>\n",
       "      <th>Age Group</th>\n",
       "      <th>Amount</th>\n",
       "    </tr>\n",
       "  </thead>\n",
       "  <tbody>\n",
       "    <tr>\n",
       "      <th>2</th>\n",
       "      <td>26-35</td>\n",
       "      <td>42613442</td>\n",
       "    </tr>\n",
       "    <tr>\n",
       "      <th>3</th>\n",
       "      <td>36-45</td>\n",
       "      <td>22144994</td>\n",
       "    </tr>\n",
       "    <tr>\n",
       "      <th>1</th>\n",
       "      <td>18-25</td>\n",
       "      <td>17240732</td>\n",
       "    </tr>\n",
       "    <tr>\n",
       "      <th>4</th>\n",
       "      <td>46-50</td>\n",
       "      <td>9207844</td>\n",
       "    </tr>\n",
       "    <tr>\n",
       "      <th>5</th>\n",
       "      <td>51-55</td>\n",
       "      <td>8261477</td>\n",
       "    </tr>\n",
       "    <tr>\n",
       "      <th>6</th>\n",
       "      <td>55+</td>\n",
       "      <td>4080987</td>\n",
       "    </tr>\n",
       "    <tr>\n",
       "      <th>0</th>\n",
       "      <td>0-17</td>\n",
       "      <td>2699653</td>\n",
       "    </tr>\n",
       "  </tbody>\n",
       "</table>\n",
       "</div>"
      ],
      "text/plain": [
       "  Age Group    Amount\n",
       "2     26-35  42613442\n",
       "3     36-45  22144994\n",
       "1     18-25  17240732\n",
       "4     46-50   9207844\n",
       "5     51-55   8261477\n",
       "6       55+   4080987\n",
       "0      0-17   2699653"
      ]
     },
     "execution_count": 96,
     "metadata": {},
     "output_type": "execute_result"
    }
   ],
   "source": [
    "# total_amount spend vs the age group \n",
    "y= df.groupby(['Age Group'], as_index =False)['Amount'].sum().sort_values(by ='Amount', ascending = False)\n",
    "y"
   ]
  },
  {
   "cell_type": "code",
   "execution_count": 100,
   "id": "89be5aa6",
   "metadata": {},
   "outputs": [
    {
     "data": {
      "image/png": "[encoded data removed]",
      "text/plain": [
       "<Figure size 432x288 with 1 Axes>"
      ]
     },
     "metadata": {
      "needs_background": "light"
     },
     "output_type": "display_data"
    }
   ],
   "source": [
    "ax = sns.barplot(x= 'Age Group', y ='Amount', data= y)\n",
    "\n",
    "for x in ax.containers:\n",
    "    ax.bar_label(x)"
   ]
  },
  {
   "cell_type": "code",
   "execution_count": 102,
   "id": "d3225e5f",
   "metadata": {},
   "outputs": [
    {
     "data": {
      "text/plain": [
       "Index(['User_ID', 'Cust_name', 'Product_ID', 'Gender', 'Age Group', 'Age',\n",
       "       'Marital_Status', 'State', 'Zone', 'Occupation', 'Product_Category',\n",
       "       'Orders', 'Amount'],\n",
       "      dtype='object')"
      ]
     },
     "execution_count": 102,
     "metadata": {},
     "output_type": "execute_result"
    }
   ],
   "source": [
    "df.columns"
   ]
  },
  {
   "cell_type": "markdown",
   "id": "06cb5fd8",
   "metadata": {},
   "source": [
    "# states"
   ]
  },
  {
   "cell_type": "code",
   "execution_count": 111,
   "id": "81c94c09",
   "metadata": {},
   "outputs": [
    {
     "data": {
      "text/plain": [
       "<AxesSubplot:xlabel='State', ylabel='Orders'>"
      ]
     },
     "execution_count": 111,
     "metadata": {},
     "output_type": "execute_result"
    },
    {
     "data": {
      "image/png": "[encoded data removed]",
      "text/plain": [
       "<Figure size 1080x360 with 1 Axes>"
      ]
     },
     "metadata": {},
     "output_type": "display_data"
    }
   ],
   "source": [
    "# total number of order from top 10 states\n",
    "sales_state = df.groupby(['State'],as_index= False)['Orders'].sum().sort_values(by = 'Orders', ascending =False).head(10)\n",
    "sns.set(rc= {'figure.figsize':(15,5)})\n",
    "sns.barplot( x= 'State', y ='Orders', data = sales_state)"
   ]
  },
  {
   "cell_type": "code",
   "execution_count": 116,
   "id": "5df1c7ad",
   "metadata": {},
   "outputs": [
    {
     "name": "stdout",
     "output_type": "stream",
     "text": [
      "['Maharashtra' 'Andhra\\xa0Pradesh' 'Uttar Pradesh' 'Karnataka' 'Gujarat'\n",
      " 'Himachal Pradesh' 'Delhi' 'Jharkhand' 'Kerala' 'Haryana'\n",
      " 'Madhya Pradesh' 'Bihar' 'Rajasthan' 'Uttarakhand' 'Telangana' 'Punjab']\n"
     ]
    }
   ],
   "source": [
    "unique_states = df['State'].unique()\n",
    "print(unique_states)\n"
   ]
  },
  {
   "cell_type": "code",
   "execution_count": 117,
   "id": "9722b45d",
   "metadata": {},
   "outputs": [
    {
     "data": {
      "text/plain": [
       "<AxesSubplot:xlabel='State', ylabel='Amount'>"
      ]
     },
     "execution_count": 117,
     "metadata": {},
     "output_type": "execute_result"
    },
    {
     "data": {
      "image/png": "[encoded data removed]",
      "text/plain": [
       "<Figure size 1080x360 with 1 Axes>"
      ]
     },
     "metadata": {},
     "output_type": "display_data"
    }
   ],
   "source": [
    "# Total amount spend by top 10 states\n",
    "sales_state = df.groupby(['State'],as_index= False)['Amount'].sum().sort_values(by = 'Amount', ascending =False).head(10)\n",
    "sns.set(rc= {'figure.figsize':(15,5)})# (width, height)\n",
    "sns.barplot( x= 'State', y ='Amount', data = sales_state)"
   ]
  },
  {
   "cell_type": "markdown",
   "id": "1c3035f9",
   "metadata": {},
   "source": [
    "# marriage status"
   ]
  },
  {
   "cell_type": "code",
   "execution_count": 126,
   "id": "f6a1d9e3",
   "metadata": {},
   "outputs": [
    {
     "data": {
      "image/png": "[encoded data removed]",
      "text/plain": [
       "<Figure size 360x504 with 1 Axes>"
      ]
     },
     "metadata": {},
     "output_type": "display_data"
    }
   ],
   "source": [
    "ax = sns.countplot(x='Marital_Status', data = df)\n",
    "sns.set(rc= {'figure.figsize':(5,7)})\n",
    "for x in ax.containers:\n",
    "    ax.bar_label(x)"
   ]
  },
  {
   "cell_type": "code",
   "execution_count": 134,
   "id": "810b49b7",
   "metadata": {},
   "outputs": [
    {
     "data": {
      "text/plain": [
       "<AxesSubplot:xlabel='Marital_Status', ylabel='Amount'>"
      ]
     },
     "execution_count": 134,
     "metadata": {},
     "output_type": "execute_result"
    },
    {
     "data": {
      "image/png": "[encoded data removed]",
      "text/plain": [
       "<Figure size 504x504 with 1 Axes>"
      ]
     },
     "metadata": {},
     "output_type": "display_data"
    }
   ],
   "source": [
    "amount_spend= df.groupby(['Gender','Marital_Status'], as_index= False)['Amount'].sum().sort_values(by ='Amount',ascending= False)\n",
    "sns.set(rc= {'figure.figsize':(7,7)})\n",
    "sns.barplot(x='Marital_Status', y='Amount', data = amount_spend, hue= 'Gender')"
   ]
  },
  {
   "cell_type": "markdown",
   "id": "e788aa09",
   "metadata": {},
   "source": [
    "# Occupation"
   ]
  },
  {
   "cell_type": "code",
   "execution_count": 139,
   "id": "29a12697",
   "metadata": {},
   "outputs": [
    {
     "data": {
      "image/png": "[encoded data removed]",
      "text/plain": [
       "<Figure size 1080x504 with 1 Axes>"
      ]
     },
     "metadata": {},
     "output_type": "display_data"
    }
   ],
   "source": [
    "ax= sns.countplot( x= 'Occupation', data= df)\n",
    "sns.set(rc= {'figure.figsize':(15,7)})\n",
    "for bars in ax.containers:\n",
    "    ax.bar_label(bars)"
   ]
  },
  {
   "cell_type": "code",
   "execution_count": 142,
   "id": "5d96a997",
   "metadata": {},
   "outputs": [
    {
     "data": {
      "text/plain": [
       "<AxesSubplot:xlabel='Occupation', ylabel='Amount'>"
      ]
     },
     "execution_count": 142,
     "metadata": {},
     "output_type": "execute_result"
    },
    {
     "data": {
      "image/png": "[encoded data removed]",
      "text/plain": [
       "<Figure size 1080x360 with 1 Axes>"
      ]
     },
     "metadata": {},
     "output_type": "display_data"
    }
   ],
   "source": [
    "sales_occupation = df.groupby(['Occupation'],as_index= False)['Amount'].sum().sort_values(by = 'Amount', ascending =False)\n",
    "sns.set(rc= {'figure.figsize':(15,5)})# (width, height)\n",
    "sns.barplot( x= 'Occupation', y ='Amount', data = sales_occupation)"
   ]
  },
  {
   "cell_type": "markdown",
   "id": "6aaf0f8c",
   "metadata": {},
   "source": [
    "# Product category"
   ]
  },
  {
   "cell_type": "code",
   "execution_count": 148,
   "id": "0aa33ebc",
   "metadata": {},
   "outputs": [
    {
     "data": {
      "image/png": "[encoded data removed]",
      "text/plain": [
       "<Figure size 1800x504 with 1 Axes>"
      ]
     },
     "metadata": {},
     "output_type": "display_data"
    }
   ],
   "source": [
    "ax= sns.countplot( x= 'Product_Category', data= df)\n",
    "sns.set(rc= {'figure.figsize':(25,7)})\n",
    "for bars in ax.containers:\n",
    "    ax.bar_label(bars)"
   ]
  },
  {
   "cell_type": "code",
   "execution_count": 150,
   "id": "78e4d4c8",
   "metadata": {},
   "outputs": [
    {
     "data": {
      "text/plain": [
       "<AxesSubplot:xlabel='Product_Category', ylabel='Amount'>"
      ]
     },
     "execution_count": 150,
     "metadata": {},
     "output_type": "execute_result"
    },
    {
     "data": {
      "image/png": "[encoded data removed]",
      "text/plain": [
       "<Figure size 1440x360 with 1 Axes>"
      ]
     },
     "metadata": {},
     "output_type": "display_data"
    }
   ],
   "source": [
    "sales_producttype = df.groupby(['Product_Category'],as_index= False)['Amount'].sum().sort_values(by = 'Amount', ascending =False)\n",
    "sns.set(rc= {'figure.figsize':(20,5)})# (width, height)\n",
    "sns.barplot( x= 'Product_Category', y ='Amount', data = sales_producttype)"
   ]
  },
  {
   "cell_type": "markdown",
   "id": "4e12ed59",
   "metadata": {},
   "source": [
    "# WE CAN CONCLUDE A LOT OF THINGS FROM THE INSIGHTS\n"
   ]
  },
  {
   "cell_type": "code",
   "execution_count": null,
   "id": "e9add8dc",
   "metadata": {},
   "outputs": [],
   "source": []
  }
 ],
 "metadata": {
  "kernelspec": {
   "display_name": "Python 3 (ipykernel)",
   "language": "python",
   "name": "python3"
  },
  "language_info": {
   "codemirror_mode": {
    "name": "ipython",
    "version": 3
   },
   "file_extension": ".py",
   "mimetype": "text/x-python",
   "name": "python",
   "nbconvert_exporter": "python",
   "pygments_lexer": "ipython3",
   "version": "3.9.12"
  }
 },
 "nbformat": 4,
 "nbformat_minor": 5
}
