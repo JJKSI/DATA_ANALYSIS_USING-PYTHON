{
 "cells": [
  {
   "cell_type": "markdown",
   "id": "3297eb0f",
   "metadata": {},
   "source": [
    "## <center> Assignment 2 </center>\n",
    "\n",
    "#### Name: Darshkumar Patel\n",
    "#### Student ID: 235841910\n",
    "\n",
    "You are provided with a training dataset and a testing dataset for a binary classification problem with labels {0,1}. The last column of the training set is the label, while the test dataset contains only attributes.\n",
    "\n",
    "Train an effective classifier using the training dataset. You are free to choose your data processing approach, the classifier type, and tune the classifier's parameters as needed. You can use the sklearn package in Python for model implementation. \n",
    "\n",
    "Make predictions on the testing dataset and generate a file containing only one column of labels (predicted 0 or 1), in the same order as the testing dataset.\n",
    "\n",
    "Please submit your implementation code and the predicted output file as two separate files (not in a zip) in the names \"A2.ipynb\" and \"prediction.txt\". Your assignment will be evaluated based on the performance of your model, specifically its F1-score, among other criteria."
   ]
  },
  {
   "cell_type": "code",
   "execution_count": 2,
   "id": "110e3d8e",
   "metadata": {},
   "outputs": [],
   "source": [
    "import pandas as pd\n",
    "df_train = pd.read_csv('train.csv',sep=',',index_col=0) \n",
    "df_test_attribute_only = pd.read_csv('test_attribute.csv',sep=',',index_col=0) "
   ]
  },
  {
   "cell_type": "code",
   "execution_count": 3,
   "id": "a455e9b2",
   "metadata": {},
   "outputs": [
    {
     "data": {
      "text/html": [
       "<div>\n",
       "<style scoped>\n",
       "    .dataframe tbody tr th:only-of-type {\n",
       "        vertical-align: middle;\n",
       "    }\n",
       "\n",
       "    .dataframe tbody tr th {\n",
       "        vertical-align: top;\n",
       "    }\n",
       "\n",
       "    .dataframe thead th {\n",
       "        text-align: right;\n",
       "    }\n",
       "</style>\n",
       "<table border=\"1\" class=\"dataframe\">\n",
       "  <thead>\n",
       "    <tr style=\"text-align: right;\">\n",
       "      <th></th>\n",
       "      <th>0</th>\n",
       "      <th>1</th>\n",
       "      <th>2</th>\n",
       "      <th>3</th>\n",
       "      <th>4</th>\n",
       "      <th>5</th>\n",
       "      <th>6</th>\n",
       "      <th>7</th>\n",
       "      <th>8</th>\n",
       "    </tr>\n",
       "  </thead>\n",
       "  <tbody>\n",
       "    <tr>\n",
       "      <th>0</th>\n",
       "      <td>0.81</td>\n",
       "      <td>0.85</td>\n",
       "      <td>0.47</td>\n",
       "      <td>0.37</td>\n",
       "      <td>0.5</td>\n",
       "      <td>0.0</td>\n",
       "      <td>0.56</td>\n",
       "      <td>0.22</td>\n",
       "      <td>1</td>\n",
       "    </tr>\n",
       "    <tr>\n",
       "      <th>1</th>\n",
       "      <td>0.70</td>\n",
       "      <td>0.58</td>\n",
       "      <td>0.53</td>\n",
       "      <td>0.39</td>\n",
       "      <td>0.5</td>\n",
       "      <td>0.0</td>\n",
       "      <td>0.59</td>\n",
       "      <td>0.22</td>\n",
       "      <td>1</td>\n",
       "    </tr>\n",
       "    <tr>\n",
       "      <th>2</th>\n",
       "      <td>0.72</td>\n",
       "      <td>0.73</td>\n",
       "      <td>0.41</td>\n",
       "      <td>0.28</td>\n",
       "      <td>0.5</td>\n",
       "      <td>0.0</td>\n",
       "      <td>0.44</td>\n",
       "      <td>0.22</td>\n",
       "      <td>1</td>\n",
       "    </tr>\n",
       "    <tr>\n",
       "      <th>3</th>\n",
       "      <td>0.78</td>\n",
       "      <td>0.69</td>\n",
       "      <td>0.44</td>\n",
       "      <td>0.26</td>\n",
       "      <td>0.5</td>\n",
       "      <td>0.0</td>\n",
       "      <td>0.54</td>\n",
       "      <td>0.22</td>\n",
       "      <td>1</td>\n",
       "    </tr>\n",
       "    <tr>\n",
       "      <th>4</th>\n",
       "      <td>0.74</td>\n",
       "      <td>0.82</td>\n",
       "      <td>0.46</td>\n",
       "      <td>0.24</td>\n",
       "      <td>0.5</td>\n",
       "      <td>0.0</td>\n",
       "      <td>0.48</td>\n",
       "      <td>0.22</td>\n",
       "      <td>1</td>\n",
       "    </tr>\n",
       "    <tr>\n",
       "      <th>...</th>\n",
       "      <td>...</td>\n",
       "      <td>...</td>\n",
       "      <td>...</td>\n",
       "      <td>...</td>\n",
       "      <td>...</td>\n",
       "      <td>...</td>\n",
       "      <td>...</td>\n",
       "      <td>...</td>\n",
       "      <td>...</td>\n",
       "    </tr>\n",
       "    <tr>\n",
       "      <th>647</th>\n",
       "      <td>0.48</td>\n",
       "      <td>0.47</td>\n",
       "      <td>0.54</td>\n",
       "      <td>0.55</td>\n",
       "      <td>0.5</td>\n",
       "      <td>0.0</td>\n",
       "      <td>0.51</td>\n",
       "      <td>0.65</td>\n",
       "      <td>0</td>\n",
       "    </tr>\n",
       "    <tr>\n",
       "      <th>648</th>\n",
       "      <td>0.49</td>\n",
       "      <td>0.61</td>\n",
       "      <td>0.49</td>\n",
       "      <td>0.25</td>\n",
       "      <td>0.5</td>\n",
       "      <td>0.0</td>\n",
       "      <td>0.50</td>\n",
       "      <td>0.28</td>\n",
       "      <td>0</td>\n",
       "    </tr>\n",
       "    <tr>\n",
       "      <th>649</th>\n",
       "      <td>0.48</td>\n",
       "      <td>0.43</td>\n",
       "      <td>0.45</td>\n",
       "      <td>0.17</td>\n",
       "      <td>0.5</td>\n",
       "      <td>0.0</td>\n",
       "      <td>0.48</td>\n",
       "      <td>0.37</td>\n",
       "      <td>0</td>\n",
       "    </tr>\n",
       "    <tr>\n",
       "      <th>650</th>\n",
       "      <td>0.77</td>\n",
       "      <td>0.57</td>\n",
       "      <td>0.45</td>\n",
       "      <td>0.17</td>\n",
       "      <td>0.5</td>\n",
       "      <td>0.0</td>\n",
       "      <td>0.53</td>\n",
       "      <td>0.22</td>\n",
       "      <td>0</td>\n",
       "    </tr>\n",
       "    <tr>\n",
       "      <th>651</th>\n",
       "      <td>0.49</td>\n",
       "      <td>0.48</td>\n",
       "      <td>0.46</td>\n",
       "      <td>0.63</td>\n",
       "      <td>0.5</td>\n",
       "      <td>0.0</td>\n",
       "      <td>0.52</td>\n",
       "      <td>0.22</td>\n",
       "      <td>0</td>\n",
       "    </tr>\n",
       "  </tbody>\n",
       "</table>\n",
       "<p>652 rows × 9 columns</p>\n",
       "</div>"
      ],
      "text/plain": [
       "        0     1     2     3    4    5     6     7  8\n",
       "0    0.81  0.85  0.47  0.37  0.5  0.0  0.56  0.22  1\n",
       "1    0.70  0.58  0.53  0.39  0.5  0.0  0.59  0.22  1\n",
       "2    0.72  0.73  0.41  0.28  0.5  0.0  0.44  0.22  1\n",
       "3    0.78  0.69  0.44  0.26  0.5  0.0  0.54  0.22  1\n",
       "4    0.74  0.82  0.46  0.24  0.5  0.0  0.48  0.22  1\n",
       "..    ...   ...   ...   ...  ...  ...   ...   ... ..\n",
       "647  0.48  0.47  0.54  0.55  0.5  0.0  0.51  0.65  0\n",
       "648  0.49  0.61  0.49  0.25  0.5  0.0  0.50  0.28  0\n",
       "649  0.48  0.43  0.45  0.17  0.5  0.0  0.48  0.37  0\n",
       "650  0.77  0.57  0.45  0.17  0.5  0.0  0.53  0.22  0\n",
       "651  0.49  0.48  0.46  0.63  0.5  0.0  0.52  0.22  0\n",
       "\n",
       "[652 rows x 9 columns]"
      ]
     },
     "execution_count": 3,
     "metadata": {},
     "output_type": "execute_result"
    }
   ],
   "source": [
    "df_train"
   ]
  },
  {
   "cell_type": "code",
   "execution_count": 4,
   "id": "0fe874cd",
   "metadata": {},
   "outputs": [
    {
     "data": {
      "text/html": [
       "<div>\n",
       "<style scoped>\n",
       "    .dataframe tbody tr th:only-of-type {\n",
       "        vertical-align: middle;\n",
       "    }\n",
       "\n",
       "    .dataframe tbody tr th {\n",
       "        vertical-align: top;\n",
       "    }\n",
       "\n",
       "    .dataframe thead th {\n",
       "        text-align: right;\n",
       "    }\n",
       "</style>\n",
       "<table border=\"1\" class=\"dataframe\">\n",
       "  <thead>\n",
       "    <tr style=\"text-align: right;\">\n",
       "      <th></th>\n",
       "      <th>0</th>\n",
       "      <th>1</th>\n",
       "      <th>2</th>\n",
       "      <th>3</th>\n",
       "      <th>4</th>\n",
       "      <th>5</th>\n",
       "      <th>6</th>\n",
       "      <th>7</th>\n",
       "    </tr>\n",
       "  </thead>\n",
       "  <tbody>\n",
       "    <tr>\n",
       "      <th>0</th>\n",
       "      <td>0.74</td>\n",
       "      <td>0.72</td>\n",
       "      <td>0.50</td>\n",
       "      <td>0.28</td>\n",
       "      <td>0.5</td>\n",
       "      <td>0.00</td>\n",
       "      <td>0.49</td>\n",
       "      <td>0.27</td>\n",
       "    </tr>\n",
       "    <tr>\n",
       "      <th>1</th>\n",
       "      <td>0.80</td>\n",
       "      <td>0.88</td>\n",
       "      <td>0.36</td>\n",
       "      <td>0.39</td>\n",
       "      <td>0.5</td>\n",
       "      <td>0.00</td>\n",
       "      <td>0.56</td>\n",
       "      <td>0.33</td>\n",
       "    </tr>\n",
       "    <tr>\n",
       "      <th>2</th>\n",
       "      <td>0.57</td>\n",
       "      <td>0.52</td>\n",
       "      <td>0.46</td>\n",
       "      <td>0.20</td>\n",
       "      <td>0.5</td>\n",
       "      <td>0.83</td>\n",
       "      <td>0.52</td>\n",
       "      <td>0.41</td>\n",
       "    </tr>\n",
       "    <tr>\n",
       "      <th>3</th>\n",
       "      <td>0.77</td>\n",
       "      <td>0.82</td>\n",
       "      <td>0.40</td>\n",
       "      <td>0.36</td>\n",
       "      <td>0.5</td>\n",
       "      <td>0.00</td>\n",
       "      <td>0.38</td>\n",
       "      <td>0.22</td>\n",
       "    </tr>\n",
       "    <tr>\n",
       "      <th>4</th>\n",
       "      <td>0.69</td>\n",
       "      <td>0.60</td>\n",
       "      <td>0.51</td>\n",
       "      <td>0.13</td>\n",
       "      <td>0.5</td>\n",
       "      <td>0.83</td>\n",
       "      <td>0.52</td>\n",
       "      <td>0.22</td>\n",
       "    </tr>\n",
       "    <tr>\n",
       "      <th>...</th>\n",
       "      <td>...</td>\n",
       "      <td>...</td>\n",
       "      <td>...</td>\n",
       "      <td>...</td>\n",
       "      <td>...</td>\n",
       "      <td>...</td>\n",
       "      <td>...</td>\n",
       "      <td>...</td>\n",
       "    </tr>\n",
       "    <tr>\n",
       "      <th>347</th>\n",
       "      <td>0.29</td>\n",
       "      <td>0.46</td>\n",
       "      <td>0.54</td>\n",
       "      <td>0.27</td>\n",
       "      <td>0.5</td>\n",
       "      <td>0.00</td>\n",
       "      <td>0.49</td>\n",
       "      <td>0.22</td>\n",
       "    </tr>\n",
       "    <tr>\n",
       "      <th>348</th>\n",
       "      <td>0.53</td>\n",
       "      <td>0.52</td>\n",
       "      <td>0.61</td>\n",
       "      <td>0.35</td>\n",
       "      <td>0.5</td>\n",
       "      <td>0.00</td>\n",
       "      <td>0.50</td>\n",
       "      <td>0.22</td>\n",
       "    </tr>\n",
       "    <tr>\n",
       "      <th>349</th>\n",
       "      <td>0.48</td>\n",
       "      <td>0.49</td>\n",
       "      <td>0.49</td>\n",
       "      <td>0.26</td>\n",
       "      <td>0.5</td>\n",
       "      <td>0.00</td>\n",
       "      <td>0.39</td>\n",
       "      <td>0.27</td>\n",
       "    </tr>\n",
       "    <tr>\n",
       "      <th>350</th>\n",
       "      <td>0.39</td>\n",
       "      <td>0.58</td>\n",
       "      <td>0.50</td>\n",
       "      <td>0.26</td>\n",
       "      <td>0.5</td>\n",
       "      <td>0.00</td>\n",
       "      <td>0.54</td>\n",
       "      <td>0.59</td>\n",
       "    </tr>\n",
       "    <tr>\n",
       "      <th>351</th>\n",
       "      <td>0.42</td>\n",
       "      <td>0.49</td>\n",
       "      <td>0.49</td>\n",
       "      <td>0.36</td>\n",
       "      <td>0.5</td>\n",
       "      <td>0.00</td>\n",
       "      <td>0.57</td>\n",
       "      <td>0.26</td>\n",
       "    </tr>\n",
       "  </tbody>\n",
       "</table>\n",
       "<p>352 rows × 8 columns</p>\n",
       "</div>"
      ],
      "text/plain": [
       "        0     1     2     3    4     5     6     7\n",
       "0    0.74  0.72  0.50  0.28  0.5  0.00  0.49  0.27\n",
       "1    0.80  0.88  0.36  0.39  0.5  0.00  0.56  0.33\n",
       "2    0.57  0.52  0.46  0.20  0.5  0.83  0.52  0.41\n",
       "3    0.77  0.82  0.40  0.36  0.5  0.00  0.38  0.22\n",
       "4    0.69  0.60  0.51  0.13  0.5  0.83  0.52  0.22\n",
       "..    ...   ...   ...   ...  ...   ...   ...   ...\n",
       "347  0.29  0.46  0.54  0.27  0.5  0.00  0.49  0.22\n",
       "348  0.53  0.52  0.61  0.35  0.5  0.00  0.50  0.22\n",
       "349  0.48  0.49  0.49  0.26  0.5  0.00  0.39  0.27\n",
       "350  0.39  0.58  0.50  0.26  0.5  0.00  0.54  0.59\n",
       "351  0.42  0.49  0.49  0.36  0.5  0.00  0.57  0.26\n",
       "\n",
       "[352 rows x 8 columns]"
      ]
     },
     "execution_count": 4,
     "metadata": {},
     "output_type": "execute_result"
    }
   ],
   "source": [
    "df_test_attribute_only"
   ]
  },
  {
   "cell_type": "markdown",
   "id": "4963328c",
   "metadata": {},
   "source": [
    "### Now below I will try to understand the data provided to me by checking its, datatype, null values if there and other factors to know my data well."
   ]
  },
  {
   "cell_type": "code",
   "execution_count": 5,
   "id": "1af05633",
   "metadata": {},
   "outputs": [
    {
     "name": "stdout",
     "output_type": "stream",
     "text": [
      "<class 'pandas.core.frame.DataFrame'>\n",
      "Index: 652 entries, 0 to 651\n",
      "Data columns (total 9 columns):\n",
      " #   Column  Non-Null Count  Dtype  \n",
      "---  ------  --------------  -----  \n",
      " 0   0       652 non-null    float64\n",
      " 1   1       652 non-null    float64\n",
      " 2   2       652 non-null    float64\n",
      " 3   3       652 non-null    float64\n",
      " 4   4       652 non-null    float64\n",
      " 5   5       652 non-null    float64\n",
      " 6   6       652 non-null    float64\n",
      " 7   7       652 non-null    float64\n",
      " 8   8       652 non-null    int64  \n",
      "dtypes: float64(8), int64(1)\n",
      "memory usage: 50.9 KB\n"
     ]
    }
   ],
   "source": [
    "df_train.info()"
   ]
  },
  {
   "cell_type": "code",
   "execution_count": 6,
   "id": "b5f5e97d",
   "metadata": {},
   "outputs": [
    {
     "data": {
      "text/html": [
       "<div>\n",
       "<style scoped>\n",
       "    .dataframe tbody tr th:only-of-type {\n",
       "        vertical-align: middle;\n",
       "    }\n",
       "\n",
       "    .dataframe tbody tr th {\n",
       "        vertical-align: top;\n",
       "    }\n",
       "\n",
       "    .dataframe thead th {\n",
       "        text-align: right;\n",
       "    }\n",
       "</style>\n",
       "<table border=\"1\" class=\"dataframe\">\n",
       "  <thead>\n",
       "    <tr style=\"text-align: right;\">\n",
       "      <th></th>\n",
       "      <th>0</th>\n",
       "      <th>1</th>\n",
       "      <th>2</th>\n",
       "      <th>3</th>\n",
       "      <th>4</th>\n",
       "      <th>5</th>\n",
       "      <th>6</th>\n",
       "      <th>7</th>\n",
       "      <th>8</th>\n",
       "    </tr>\n",
       "  </thead>\n",
       "  <tbody>\n",
       "    <tr>\n",
       "      <th>count</th>\n",
       "      <td>652.00000</td>\n",
       "      <td>652.000000</td>\n",
       "      <td>652.000000</td>\n",
       "      <td>652.000000</td>\n",
       "      <td>652.000000</td>\n",
       "      <td>652.000000</td>\n",
       "      <td>652.000000</td>\n",
       "      <td>652.000000</td>\n",
       "      <td>652.000000</td>\n",
       "    </tr>\n",
       "    <tr>\n",
       "      <th>mean</th>\n",
       "      <td>0.50773</td>\n",
       "      <td>0.513037</td>\n",
       "      <td>0.491058</td>\n",
       "      <td>0.271380</td>\n",
       "      <td>0.504601</td>\n",
       "      <td>0.009172</td>\n",
       "      <td>0.503482</td>\n",
       "      <td>0.255245</td>\n",
       "      <td>0.098160</td>\n",
       "    </tr>\n",
       "    <tr>\n",
       "      <th>std</th>\n",
       "      <td>0.12987</td>\n",
       "      <td>0.123411</td>\n",
       "      <td>0.090638</td>\n",
       "      <td>0.138654</td>\n",
       "      <td>0.047780</td>\n",
       "      <td>0.083864</td>\n",
       "      <td>0.054488</td>\n",
       "      <td>0.081545</td>\n",
       "      <td>0.297759</td>\n",
       "    </tr>\n",
       "    <tr>\n",
       "      <th>min</th>\n",
       "      <td>0.19000</td>\n",
       "      <td>0.140000</td>\n",
       "      <td>0.210000</td>\n",
       "      <td>0.000000</td>\n",
       "      <td>0.500000</td>\n",
       "      <td>0.000000</td>\n",
       "      <td>0.130000</td>\n",
       "      <td>0.010000</td>\n",
       "      <td>0.000000</td>\n",
       "    </tr>\n",
       "    <tr>\n",
       "      <th>25%</th>\n",
       "      <td>0.42000</td>\n",
       "      <td>0.430000</td>\n",
       "      <td>0.440000</td>\n",
       "      <td>0.170000</td>\n",
       "      <td>0.500000</td>\n",
       "      <td>0.000000</td>\n",
       "      <td>0.480000</td>\n",
       "      <td>0.220000</td>\n",
       "      <td>0.000000</td>\n",
       "    </tr>\n",
       "    <tr>\n",
       "      <th>50%</th>\n",
       "      <td>0.49000</td>\n",
       "      <td>0.500000</td>\n",
       "      <td>0.510000</td>\n",
       "      <td>0.230000</td>\n",
       "      <td>0.500000</td>\n",
       "      <td>0.000000</td>\n",
       "      <td>0.510000</td>\n",
       "      <td>0.220000</td>\n",
       "      <td>0.000000</td>\n",
       "    </tr>\n",
       "    <tr>\n",
       "      <th>75%</th>\n",
       "      <td>0.58000</td>\n",
       "      <td>0.580000</td>\n",
       "      <td>0.550000</td>\n",
       "      <td>0.340000</td>\n",
       "      <td>0.500000</td>\n",
       "      <td>0.000000</td>\n",
       "      <td>0.540000</td>\n",
       "      <td>0.270000</td>\n",
       "      <td>0.000000</td>\n",
       "    </tr>\n",
       "    <tr>\n",
       "      <th>max</th>\n",
       "      <td>0.92000</td>\n",
       "      <td>1.000000</td>\n",
       "      <td>1.000000</td>\n",
       "      <td>0.800000</td>\n",
       "      <td>1.000000</td>\n",
       "      <td>0.830000</td>\n",
       "      <td>0.720000</td>\n",
       "      <td>0.740000</td>\n",
       "      <td>1.000000</td>\n",
       "    </tr>\n",
       "  </tbody>\n",
       "</table>\n",
       "</div>"
      ],
      "text/plain": [
       "               0           1           2           3           4           5  \\\n",
       "count  652.00000  652.000000  652.000000  652.000000  652.000000  652.000000   \n",
       "mean     0.50773    0.513037    0.491058    0.271380    0.504601    0.009172   \n",
       "std      0.12987    0.123411    0.090638    0.138654    0.047780    0.083864   \n",
       "min      0.19000    0.140000    0.210000    0.000000    0.500000    0.000000   \n",
       "25%      0.42000    0.430000    0.440000    0.170000    0.500000    0.000000   \n",
       "50%      0.49000    0.500000    0.510000    0.230000    0.500000    0.000000   \n",
       "75%      0.58000    0.580000    0.550000    0.340000    0.500000    0.000000   \n",
       "max      0.92000    1.000000    1.000000    0.800000    1.000000    0.830000   \n",
       "\n",
       "                6           7           8  \n",
       "count  652.000000  652.000000  652.000000  \n",
       "mean     0.503482    0.255245    0.098160  \n",
       "std      0.054488    0.081545    0.297759  \n",
       "min      0.130000    0.010000    0.000000  \n",
       "25%      0.480000    0.220000    0.000000  \n",
       "50%      0.510000    0.220000    0.000000  \n",
       "75%      0.540000    0.270000    0.000000  \n",
       "max      0.720000    0.740000    1.000000  "
      ]
     },
     "execution_count": 6,
     "metadata": {},
     "output_type": "execute_result"
    }
   ],
   "source": [
    "df_train.describe()"
   ]
  },
  {
   "cell_type": "code",
   "execution_count": 7,
   "id": "44cbceb4",
   "metadata": {},
   "outputs": [
    {
     "name": "stdout",
     "output_type": "stream",
     "text": [
      "<class 'pandas.core.frame.DataFrame'>\n",
      "Index: 352 entries, 0 to 351\n",
      "Data columns (total 8 columns):\n",
      " #   Column  Non-Null Count  Dtype  \n",
      "---  ------  --------------  -----  \n",
      " 0   0       352 non-null    float64\n",
      " 1   1       352 non-null    float64\n",
      " 2   2       352 non-null    float64\n",
      " 3   3       352 non-null    float64\n",
      " 4   4       352 non-null    float64\n",
      " 5   5       352 non-null    float64\n",
      " 6   6       352 non-null    float64\n",
      " 7   7       352 non-null    float64\n",
      "dtypes: float64(8)\n",
      "memory usage: 24.8 KB\n"
     ]
    }
   ],
   "source": [
    "df_test_attribute_only.info()"
   ]
  },
  {
   "cell_type": "code",
   "execution_count": 8,
   "id": "197908e7",
   "metadata": {},
   "outputs": [
    {
     "data": {
      "text/html": [
       "<div>\n",
       "<style scoped>\n",
       "    .dataframe tbody tr th:only-of-type {\n",
       "        vertical-align: middle;\n",
       "    }\n",
       "\n",
       "    .dataframe tbody tr th {\n",
       "        vertical-align: top;\n",
       "    }\n",
       "\n",
       "    .dataframe thead th {\n",
       "        text-align: right;\n",
       "    }\n",
       "</style>\n",
       "<table border=\"1\" class=\"dataframe\">\n",
       "  <thead>\n",
       "    <tr style=\"text-align: right;\">\n",
       "      <th></th>\n",
       "      <th>0</th>\n",
       "      <th>1</th>\n",
       "      <th>2</th>\n",
       "      <th>3</th>\n",
       "      <th>4</th>\n",
       "      <th>5</th>\n",
       "      <th>6</th>\n",
       "      <th>7</th>\n",
       "    </tr>\n",
       "  </thead>\n",
       "  <tbody>\n",
       "    <tr>\n",
       "      <th>count</th>\n",
       "      <td>352.000000</td>\n",
       "      <td>352.000000</td>\n",
       "      <td>352.000000</td>\n",
       "      <td>352.000000</td>\n",
       "      <td>352.000000</td>\n",
       "      <td>352.000000</td>\n",
       "      <td>352.000000</td>\n",
       "      <td>352.000000</td>\n",
       "    </tr>\n",
       "    <tr>\n",
       "      <th>mean</th>\n",
       "      <td>0.512045</td>\n",
       "      <td>0.514091</td>\n",
       "      <td>0.493295</td>\n",
       "      <td>0.279233</td>\n",
       "      <td>0.505682</td>\n",
       "      <td>0.014631</td>\n",
       "      <td>0.498778</td>\n",
       "      <td>0.251847</td>\n",
       "    </tr>\n",
       "    <tr>\n",
       "      <th>std</th>\n",
       "      <td>0.139798</td>\n",
       "      <td>0.124183</td>\n",
       "      <td>0.096136</td>\n",
       "      <td>0.157745</td>\n",
       "      <td>0.053072</td>\n",
       "      <td>0.104992</td>\n",
       "      <td>0.059268</td>\n",
       "      <td>0.085503</td>\n",
       "    </tr>\n",
       "    <tr>\n",
       "      <th>min</th>\n",
       "      <td>0.200000</td>\n",
       "      <td>0.210000</td>\n",
       "      <td>0.230000</td>\n",
       "      <td>0.080000</td>\n",
       "      <td>0.500000</td>\n",
       "      <td>0.000000</td>\n",
       "      <td>0.130000</td>\n",
       "      <td>0.000000</td>\n",
       "    </tr>\n",
       "    <tr>\n",
       "      <th>25%</th>\n",
       "      <td>0.410000</td>\n",
       "      <td>0.430000</td>\n",
       "      <td>0.440000</td>\n",
       "      <td>0.170000</td>\n",
       "      <td>0.500000</td>\n",
       "      <td>0.000000</td>\n",
       "      <td>0.480000</td>\n",
       "      <td>0.220000</td>\n",
       "    </tr>\n",
       "    <tr>\n",
       "      <th>50%</th>\n",
       "      <td>0.490000</td>\n",
       "      <td>0.500000</td>\n",
       "      <td>0.500000</td>\n",
       "      <td>0.230000</td>\n",
       "      <td>0.500000</td>\n",
       "      <td>0.000000</td>\n",
       "      <td>0.510000</td>\n",
       "      <td>0.220000</td>\n",
       "    </tr>\n",
       "    <tr>\n",
       "      <th>75%</th>\n",
       "      <td>0.590000</td>\n",
       "      <td>0.582500</td>\n",
       "      <td>0.550000</td>\n",
       "      <td>0.360000</td>\n",
       "      <td>0.500000</td>\n",
       "      <td>0.000000</td>\n",
       "      <td>0.530000</td>\n",
       "      <td>0.260000</td>\n",
       "    </tr>\n",
       "    <tr>\n",
       "      <th>max</th>\n",
       "      <td>1.000000</td>\n",
       "      <td>0.920000</td>\n",
       "      <td>1.000000</td>\n",
       "      <td>1.000000</td>\n",
       "      <td>1.000000</td>\n",
       "      <td>0.830000</td>\n",
       "      <td>0.730000</td>\n",
       "      <td>0.830000</td>\n",
       "    </tr>\n",
       "  </tbody>\n",
       "</table>\n",
       "</div>"
      ],
      "text/plain": [
       "                0           1           2           3           4           5  \\\n",
       "count  352.000000  352.000000  352.000000  352.000000  352.000000  352.000000   \n",
       "mean     0.512045    0.514091    0.493295    0.279233    0.505682    0.014631   \n",
       "std      0.139798    0.124183    0.096136    0.157745    0.053072    0.104992   \n",
       "min      0.200000    0.210000    0.230000    0.080000    0.500000    0.000000   \n",
       "25%      0.410000    0.430000    0.440000    0.170000    0.500000    0.000000   \n",
       "50%      0.490000    0.500000    0.500000    0.230000    0.500000    0.000000   \n",
       "75%      0.590000    0.582500    0.550000    0.360000    0.500000    0.000000   \n",
       "max      1.000000    0.920000    1.000000    1.000000    1.000000    0.830000   \n",
       "\n",
       "                6           7  \n",
       "count  352.000000  352.000000  \n",
       "mean     0.498778    0.251847  \n",
       "std      0.059268    0.085503  \n",
       "min      0.130000    0.000000  \n",
       "25%      0.480000    0.220000  \n",
       "50%      0.510000    0.220000  \n",
       "75%      0.530000    0.260000  \n",
       "max      0.730000    0.830000  "
      ]
     },
     "execution_count": 8,
     "metadata": {},
     "output_type": "execute_result"
    }
   ],
   "source": [
    "df_test_attribute_only.describe()"
   ]
  },
  {
   "cell_type": "code",
   "execution_count": 9,
   "id": "22b87060",
   "metadata": {},
   "outputs": [
    {
     "data": {
      "text/plain": [
       "0    0\n",
       "1    0\n",
       "2    0\n",
       "3    0\n",
       "4    0\n",
       "5    0\n",
       "6    0\n",
       "7    0\n",
       "dtype: int64"
      ]
     },
     "execution_count": 9,
     "metadata": {},
     "output_type": "execute_result"
    }
   ],
   "source": [
    "df_test_attribute_only.isnull().sum()"
   ]
  },
  {
   "cell_type": "code",
   "execution_count": 10,
   "id": "a996a2b3",
   "metadata": {},
   "outputs": [
    {
     "data": {
      "text/plain": [
       "0    0\n",
       "1    0\n",
       "2    0\n",
       "3    0\n",
       "4    0\n",
       "5    0\n",
       "6    0\n",
       "7    0\n",
       "8    0\n",
       "dtype: int64"
      ]
     },
     "execution_count": 10,
     "metadata": {},
     "output_type": "execute_result"
    }
   ],
   "source": [
    "df_train.isnull().sum()"
   ]
  },
  {
   "cell_type": "markdown",
   "id": "899a9f0a",
   "metadata": {},
   "source": [
    "## Importing Essential libraries"
   ]
  },
  {
   "cell_type": "code",
   "execution_count": 11,
   "id": "b3772cec",
   "metadata": {},
   "outputs": [],
   "source": [
    "import matplotlib.pyplot as plt\n",
    "from sklearn.model_selection import train_test_split,cross_val_score\n",
    "from sklearn.tree import DecisionTreeClassifier\n",
    "from sklearn.metrics import f1_score,roc_curve,roc_auc_score,accuracy_score,classification_report,precision_score,recall_score\n",
    "from mlxtend.plotting import plot_confusion_matrix\n",
    "from sklearn.preprocessing import StandardScaler\n",
    "from sklearn.ensemble import RandomForestClassifier\n",
    "from sklearn import metrics\n",
    "import seaborn as sns\n",
    "import matplotlib.pyplot as plt\n",
    "from sklearn.model_selection import GridSearchCV"
   ]
  },
  {
   "cell_type": "markdown",
   "id": "f9d4718f",
   "metadata": {},
   "source": [
    "## Hyper tuning the Paramaeters using Grid Search and Cross Validating the data using k-fold technique\n",
    "Cross-validation is a technique used to assess how well a predictive model will generalize to an independent dataset. It is particularly useful for evaluating the performance of machine learning models when you have a limited amount of data. "
   ]
  },
  {
   "cell_type": "code",
   "execution_count": 41,
   "id": "8226d97f",
   "metadata": {},
   "outputs": [],
   "source": [
    "# Working with train.csv file\n",
    "x_train=df_train.iloc[:,:-1]\n",
    "# The above x_train will select all the columns except the last one(,:-1) and will be using it for training purpose\n",
    "y_train=df_train.iloc[:,-1]\n",
    "# The above y_train means it will be selecting the last column/prediction column from our data which will work as a prdictor(0/1)"
   ]
  },
  {
   "cell_type": "code",
   "execution_count": 42,
   "id": "a41f07e1",
   "metadata": {},
   "outputs": [],
   "source": [
    "# Here we are splitting the data into Training and Validation set\n",
    "X_train,X_validate,Y_train,Y_validate= train_test_split(x_train,y_train,test_size=0.30)"
   ]
  },
  {
   "cell_type": "markdown",
   "id": "cdc31c2d",
   "metadata": {},
   "source": [
    "### Here, I will be using the grid search method to tune the parameters for Random Forest Algorithm"
   ]
  },
  {
   "cell_type": "code",
   "execution_count": 43,
   "id": "3f6f74b1",
   "metadata": {},
   "outputs": [],
   "source": [
    "# Using the classifier and creating a model here called random_model i.e. Random Forest Classifier\n",
    "random_model = RandomForestClassifier()"
   ]
  },
  {
   "cell_type": "code",
   "execution_count": 44,
   "id": "0a949b91",
   "metadata": {},
   "outputs": [],
   "source": [
    "# GridSearchCV which uses the Grid Search technique for finding the optimal hyperparameters to increase the model performance.\n",
    "# Lets define the parameters using the dictionary (These parameters are already defined under the whatever Classifier we are using)\n",
    "param_grid_random ={\n",
    "    'n_estimators': [50, 100, 200],\n",
    "    'max_depth': [5, 10, 15],\n",
    "    'min_samples_split': [2, 5, 10],\n",
    "    'min_samples_leaf': [1, 2, 4],\n",
    "    'max_features': ['auto', 'sqrt'],\n",
    "    'bootstrap': [True, False]\n",
    "}"
   ]
  },
  {
   "cell_type": "code",
   "execution_count": 45,
   "id": "f2bd548f",
   "metadata": {},
   "outputs": [
    {
     "name": "stdout",
     "output_type": "stream",
     "text": [
      "Fitting 3 folds for each of 324 candidates, totalling 972 fits\n",
      "Best Parameters for Random Forest: {'bootstrap': True, 'max_depth': 5, 'max_features': 'sqrt', 'min_samples_leaf': 4, 'min_samples_split': 5, 'n_estimators': 50}\n"
     ]
    },
    {
     "name": "stderr",
     "output_type": "stream",
     "text": [
      "C:\\Users\\darsh\\anaconda3\\Lib\\site-packages\\sklearn\\model_selection\\_validation.py:425: FitFailedWarning: \n",
      "486 fits failed out of a total of 972.\n",
      "The score on these train-test partitions for these parameters will be set to nan.\n",
      "If these failures are not expected, you can try to debug them by setting error_score='raise'.\n",
      "\n",
      "Below are more details about the failures:\n",
      "--------------------------------------------------------------------------------\n",
      "96 fits failed with the following error:\n",
      "Traceback (most recent call last):\n",
      "  File \"C:\\Users\\darsh\\anaconda3\\Lib\\site-packages\\sklearn\\model_selection\\_validation.py\", line 732, in _fit_and_score\n",
      "    estimator.fit(X_train, y_train, **fit_params)\n",
      "  File \"C:\\Users\\darsh\\anaconda3\\Lib\\site-packages\\sklearn\\base.py\", line 1144, in wrapper\n",
      "    estimator._validate_params()\n",
      "  File \"C:\\Users\\darsh\\anaconda3\\Lib\\site-packages\\sklearn\\base.py\", line 637, in _validate_params\n",
      "    validate_parameter_constraints(\n",
      "  File \"C:\\Users\\darsh\\anaconda3\\Lib\\site-packages\\sklearn\\utils\\_param_validation.py\", line 95, in validate_parameter_constraints\n",
      "    raise InvalidParameterError(\n",
      "sklearn.utils._param_validation.InvalidParameterError: The 'max_features' parameter of RandomForestClassifier must be an int in the range [1, inf), a float in the range (0.0, 1.0], a str among {'sqrt', 'log2'} or None. Got 'auto' instead.\n",
      "\n",
      "--------------------------------------------------------------------------------\n",
      "390 fits failed with the following error:\n",
      "Traceback (most recent call last):\n",
      "  File \"C:\\Users\\darsh\\anaconda3\\Lib\\site-packages\\sklearn\\model_selection\\_validation.py\", line 732, in _fit_and_score\n",
      "    estimator.fit(X_train, y_train, **fit_params)\n",
      "  File \"C:\\Users\\darsh\\anaconda3\\Lib\\site-packages\\sklearn\\base.py\", line 1144, in wrapper\n",
      "    estimator._validate_params()\n",
      "  File \"C:\\Users\\darsh\\anaconda3\\Lib\\site-packages\\sklearn\\base.py\", line 637, in _validate_params\n",
      "    validate_parameter_constraints(\n",
      "  File \"C:\\Users\\darsh\\anaconda3\\Lib\\site-packages\\sklearn\\utils\\_param_validation.py\", line 95, in validate_parameter_constraints\n",
      "    raise InvalidParameterError(\n",
      "sklearn.utils._param_validation.InvalidParameterError: The 'max_features' parameter of RandomForestClassifier must be an int in the range [1, inf), a float in the range (0.0, 1.0], a str among {'log2', 'sqrt'} or None. Got 'auto' instead.\n",
      "\n",
      "  warnings.warn(some_fits_failed_message, FitFailedWarning)\n",
      "C:\\Users\\darsh\\anaconda3\\Lib\\site-packages\\sklearn\\model_selection\\_search.py:976: UserWarning: One or more of the test scores are non-finite: [       nan        nan        nan        nan        nan        nan\n",
      "        nan        nan        nan        nan        nan        nan\n",
      "        nan        nan        nan        nan        nan        nan\n",
      "        nan        nan        nan        nan        nan        nan\n",
      "        nan        nan        nan 0.94517544 0.94736842 0.94517544\n",
      " 0.94517544 0.95175439 0.9495614  0.9495614  0.94517544 0.9495614\n",
      " 0.94736842 0.94736842 0.94736842 0.9495614  0.9495614  0.94736842\n",
      " 0.95175439 0.94517544 0.94517544 0.94517544 0.95175439 0.94736842\n",
      " 0.96052632 0.9495614  0.94736842 0.95394737 0.94517544 0.94736842\n",
      "        nan        nan        nan        nan        nan        nan\n",
      "        nan        nan        nan        nan        nan        nan\n",
      "        nan        nan        nan        nan        nan        nan\n",
      "        nan        nan        nan        nan        nan        nan\n",
      "        nan        nan        nan 0.95175439 0.94736842 0.94736842\n",
      " 0.95175439 0.94736842 0.9495614  0.9495614  0.9495614  0.9495614\n",
      " 0.94517544 0.95175439 0.94736842 0.95175439 0.95175439 0.9495614\n",
      " 0.94517544 0.94517544 0.9495614  0.9495614  0.95175439 0.9495614\n",
      " 0.95175439 0.94736842 0.94736842 0.9495614  0.94736842 0.94736842\n",
      "        nan        nan        nan        nan        nan        nan\n",
      "        nan        nan        nan        nan        nan        nan\n",
      "        nan        nan        nan        nan        nan        nan\n",
      "        nan        nan        nan        nan        nan        nan\n",
      "        nan        nan        nan 0.94736842 0.95175439 0.9495614\n",
      " 0.94736842 0.95175439 0.94517544 0.94736842 0.95175439 0.94736842\n",
      " 0.95394737 0.94736842 0.9495614  0.95614035 0.9495614  0.9495614\n",
      " 0.95175439 0.9495614  0.94736842 0.94736842 0.94736842 0.94736842\n",
      " 0.94736842 0.94517544 0.94517544 0.94736842 0.94517544 0.94736842\n",
      "        nan        nan        nan        nan        nan        nan\n",
      "        nan        nan        nan        nan        nan        nan\n",
      "        nan        nan        nan        nan        nan        nan\n",
      "        nan        nan        nan        nan        nan        nan\n",
      "        nan        nan        nan 0.94517544 0.94736842 0.9495614\n",
      " 0.95394737 0.95175439 0.9495614  0.94517544 0.94517544 0.95394737\n",
      " 0.94736842 0.9495614  0.94736842 0.9495614  0.95175439 0.94736842\n",
      " 0.94517544 0.95175439 0.95175439 0.94298246 0.94736842 0.94517544\n",
      " 0.94736842 0.9495614  0.94078947 0.94517544 0.9495614  0.94078947\n",
      "        nan        nan        nan        nan        nan        nan\n",
      "        nan        nan        nan        nan        nan        nan\n",
      "        nan        nan        nan        nan        nan        nan\n",
      "        nan        nan        nan        nan        nan        nan\n",
      "        nan        nan        nan 0.94517544 0.95394737 0.95614035\n",
      " 0.95175439 0.95614035 0.95614035 0.95394737 0.95394737 0.95175439\n",
      " 0.94736842 0.95394737 0.95175439 0.94736842 0.9495614  0.95175439\n",
      " 0.95394737 0.95394737 0.9495614  0.94078947 0.94298246 0.94736842\n",
      " 0.9495614  0.94078947 0.94736842 0.94517544 0.94736842 0.94517544\n",
      "        nan        nan        nan        nan        nan        nan\n",
      "        nan        nan        nan        nan        nan        nan\n",
      "        nan        nan        nan        nan        nan        nan\n",
      "        nan        nan        nan        nan        nan        nan\n",
      "        nan        nan        nan 0.95175439 0.95614035 0.9495614\n",
      " 0.95175439 0.95394737 0.95394737 0.95394737 0.94736842 0.95175439\n",
      " 0.9495614  0.95394737 0.94736842 0.9495614  0.9495614  0.95175439\n",
      " 0.94736842 0.95175439 0.9495614  0.9495614  0.94517544 0.94298246\n",
      " 0.94736842 0.94298246 0.95175439 0.94517544 0.94517544 0.9495614 ]\n",
      "  warnings.warn(\n"
     ]
    }
   ],
   "source": [
    "# Grid Search for Random Forest hyperparameters\n",
    "#The grid search will use 3-fold cross-validation and run in parallel to find the best hyperparameters.\n",
    "grid_search_random = GridSearchCV(estimator=random_model, param_grid=param_grid_random, cv=3, n_jobs=-1, verbose=2)\n",
    "grid_search_random.fit(X_train, Y_train)\n",
    "\n",
    "# These are the best parametres generated on the basis of Grid Search\n",
    "best_params_random = grid_search_random.best_params_\n",
    "print(\"Best Parameters for Random Forest:\", best_params_random)"
   ]
  },
  {
   "cell_type": "code",
   "execution_count": 46,
   "id": "259b1790",
   "metadata": {},
   "outputs": [
    {
     "data": {
      "text/html": [
       "<style>#sk-container-id-4 {color: black;}#sk-container-id-4 pre{padding: 0;}#sk-container-id-4 div.sk-toggleable {background-color: white;}#sk-container-id-4 label.sk-toggleable__label {cursor: pointer;display: block;width: 100%;margin-bottom: 0;padding: 0.3em;box-sizing: border-box;text-align: center;}#sk-container-id-4 label.sk-toggleable__label-arrow:before {content: \"▸\";float: left;margin-right: 0.25em;color: #696969;}#sk-container-id-4 label.sk-toggleable__label-arrow:hover:before {color: black;}#sk-container-id-4 div.sk-estimator:hover label.sk-toggleable__label-arrow:before {color: black;}#sk-container-id-4 div.sk-toggleable__content {max-height: 0;max-width: 0;overflow: hidden;text-align: left;background-color: #f0f8ff;}#sk-container-id-4 div.sk-toggleable__content pre {margin: 0.2em;color: black;border-radius: 0.25em;background-color: #f0f8ff;}#sk-container-id-4 input.sk-toggleable__control:checked~div.sk-toggleable__content {max-height: 200px;max-width: 100%;overflow: auto;}#sk-container-id-4 input.sk-toggleable__control:checked~label.sk-toggleable__label-arrow:before {content: \"▾\";}#sk-container-id-4 div.sk-estimator input.sk-toggleable__control:checked~label.sk-toggleable__label {background-color: #d4ebff;}#sk-container-id-4 div.sk-label input.sk-toggleable__control:checked~label.sk-toggleable__label {background-color: #d4ebff;}#sk-container-id-4 input.sk-hidden--visually {border: 0;clip: rect(1px 1px 1px 1px);clip: rect(1px, 1px, 1px, 1px);height: 1px;margin: -1px;overflow: hidden;padding: 0;position: absolute;width: 1px;}#sk-container-id-4 div.sk-estimator {font-family: monospace;background-color: #f0f8ff;border: 1px dotted black;border-radius: 0.25em;box-sizing: border-box;margin-bottom: 0.5em;}#sk-container-id-4 div.sk-estimator:hover {background-color: #d4ebff;}#sk-container-id-4 div.sk-parallel-item::after {content: \"\";width: 100%;border-bottom: 1px solid gray;flex-grow: 1;}#sk-container-id-4 div.sk-label:hover label.sk-toggleable__label {background-color: #d4ebff;}#sk-container-id-4 div.sk-serial::before {content: \"\";position: absolute;border-left: 1px solid gray;box-sizing: border-box;top: 0;bottom: 0;left: 50%;z-index: 0;}#sk-container-id-4 div.sk-serial {display: flex;flex-direction: column;align-items: center;background-color: white;padding-right: 0.2em;padding-left: 0.2em;position: relative;}#sk-container-id-4 div.sk-item {position: relative;z-index: 1;}#sk-container-id-4 div.sk-parallel {display: flex;align-items: stretch;justify-content: center;background-color: white;position: relative;}#sk-container-id-4 div.sk-item::before, #sk-container-id-4 div.sk-parallel-item::before {content: \"\";position: absolute;border-left: 1px solid gray;box-sizing: border-box;top: 0;bottom: 0;left: 50%;z-index: -1;}#sk-container-id-4 div.sk-parallel-item {display: flex;flex-direction: column;z-index: 1;position: relative;background-color: white;}#sk-container-id-4 div.sk-parallel-item:first-child::after {align-self: flex-end;width: 50%;}#sk-container-id-4 div.sk-parallel-item:last-child::after {align-self: flex-start;width: 50%;}#sk-container-id-4 div.sk-parallel-item:only-child::after {width: 0;}#sk-container-id-4 div.sk-dashed-wrapped {border: 1px dashed gray;margin: 0 0.4em 0.5em 0.4em;box-sizing: border-box;padding-bottom: 0.4em;background-color: white;}#sk-container-id-4 div.sk-label label {font-family: monospace;font-weight: bold;display: inline-block;line-height: 1.2em;}#sk-container-id-4 div.sk-label-container {text-align: center;}#sk-container-id-4 div.sk-container {/* jupyter's `normalize.less` sets `[hidden] { display: none; }` but bootstrap.min.css set `[hidden] { display: none !important; }` so we also need the `!important` here to be able to override the default hidden behavior on the sphinx rendered scikit-learn.org. See: https://github.com/scikit-learn/scikit-learn/issues/21755 */display: inline-block !important;position: relative;}#sk-container-id-4 div.sk-text-repr-fallback {display: none;}</style><div id=\"sk-container-id-4\" class=\"sk-top-container\"><div class=\"sk-text-repr-fallback\"><pre>RandomForestClassifier(max_depth=5, min_samples_leaf=4, min_samples_split=5,\n",
       "                       n_estimators=50)</pre><b>In a Jupyter environment, please rerun this cell to show the HTML representation or trust the notebook. <br />On GitHub, the HTML representation is unable to render, please try loading this page with nbviewer.org.</b></div><div class=\"sk-container\" hidden><div class=\"sk-item\"><div class=\"sk-estimator sk-toggleable\"><input class=\"sk-toggleable__control sk-hidden--visually\" id=\"sk-estimator-id-4\" type=\"checkbox\" checked><label for=\"sk-estimator-id-4\" class=\"sk-toggleable__label sk-toggleable__label-arrow\">RandomForestClassifier</label><div class=\"sk-toggleable__content\"><pre>RandomForestClassifier(max_depth=5, min_samples_leaf=4, min_samples_split=5,\n",
       "                       n_estimators=50)</pre></div></div></div></div></div>"
      ],
      "text/plain": [
       "RandomForestClassifier(max_depth=5, min_samples_leaf=4, min_samples_split=5,\n",
       "                       n_estimators=50)"
      ]
     },
     "execution_count": 46,
     "metadata": {},
     "output_type": "execute_result"
    }
   ],
   "source": [
    "# Now I will be Training the Model using the Best Parameters Generated Using the Grid Search.\n",
    "# Thus It will me by best Model which I can in future for Prediction\n",
    "best_random_model = RandomForestClassifier(**best_params_random)\n",
    "best_random_model.fit(X_train, Y_train)"
   ]
  },
  {
   "cell_type": "code",
   "execution_count": 47,
   "id": "4ffabf3c",
   "metadata": {},
   "outputs": [
    {
     "name": "stdout",
     "output_type": "stream",
     "text": [
      "The predcitions made my the model for this Training data is:\n",
      " [0 0 0 0 1 1 0 0 0 0 0 0 1 0 0 0 0 0 0 0 0 0 0 0 0 0 0 0 0 0 0 1 0 0 0 0 0\n",
      " 0 0 0 1 0 0 0 0 0 0 0 0 0 1 0 0 0 0 0 0 0 0 0 0 0 0 0 0 0 0 0 1 0 0 0 0 0\n",
      " 0 0 0 1 0 0 0 1 0 0 0 0 0 0 0 0 0 0 0 0 0 1 0 0 0 0 0 0 0 0 0 1 0 0 1 0 0\n",
      " 0 0 0 0 0 0 0 0 0 0 0 0 0 1 0 0 0 0 0 0 0 1 0 0 0 0 0 0 0 0 0 0 0 0 0 0 0\n",
      " 0 0 0 1 0 0 0 0 0 0 0 0 0 0 0 0 1 0 0 0 0 0 0 0 0 0 0 0 0 0 0 0 0 0 0 0 0\n",
      " 0 0 0 0 0 0 0 1 1 0 0]\n"
     ]
    }
   ],
   "source": [
    "# Here Finally I have predicted the X_validate which I am using here to test the prediction\n",
    "Y_validate_pred = best_random_model.predict(X_validate)\n",
    "print(\"The predcitions made my the model for this Training data is:\"\"\\n\",Y_validate_pred)"
   ]
  },
  {
   "cell_type": "code",
   "execution_count": 48,
   "id": "779e0dff",
   "metadata": {},
   "outputs": [
    {
     "name": "stdout",
     "output_type": "stream",
     "text": [
      "Cross Validation score for Random Forest [0.95394737 0.95394737 0.93421053]\n",
      "Mean Cross Validation score is  0.9473684210526315\n"
     ]
    }
   ],
   "source": [
    "# Here I am checking the Cross Validation score of my model\n",
    "random_score = cross_val_score(best_random_model,X_train,Y_train,cv=3)\n",
    "#The output you provided shows the cross-validation scores for each \n",
    "# fold of the 5-fold cross-validation with a decision tree classifier.\n",
    "print(\"Cross Validation score for Random Forest\",random_score)\n",
    "print(\"Mean Cross Validation score is \",random_score.mean())"
   ]
  },
  {
   "cell_type": "markdown",
   "id": "2812cf68",
   "metadata": {},
   "source": [
    "## It seems My Random Forest Model is Working well So i will carry on with this model for predcitng the Test_attribute_data"
   ]
  },
  {
   "cell_type": "markdown",
   "id": "83aafe4c",
   "metadata": {},
   "source": [
    "### Now lets check the other imortant performance mertics of our model like accuracy score, f1 Score, roc curve , confusin matric etc for our training data "
   ]
  },
  {
   "cell_type": "markdown",
   "id": "4dcc556e",
   "metadata": {},
   "source": [
    "For Finding all these measures I will be using the value that my best model predicted with the true values that were described in the Dataset given to us."
   ]
  },
  {
   "cell_type": "markdown",
   "id": "b305f5ed",
   "metadata": {},
   "source": [
    "### F1 score\n"
   ]
  },
  {
   "cell_type": "code",
   "execution_count": 49,
   "id": "f5b541a5",
   "metadata": {},
   "outputs": [
    {
     "name": "stdout",
     "output_type": "stream",
     "text": [
      "0.8571428571428571\n"
     ]
    }
   ],
   "source": [
    "#The F1 score reaches its best value at 1 (perfect precision and recall) and worst at 0. \n",
    "f1= f1_score(Y_validate, Y_validate_pred)\n",
    "print(f1)"
   ]
  },
  {
   "cell_type": "markdown",
   "id": "422f1f37",
   "metadata": {},
   "source": [
    "### Accuracy Score"
   ]
  },
  {
   "cell_type": "code",
   "execution_count": 50,
   "id": "4cb2dda5",
   "metadata": {},
   "outputs": [
    {
     "name": "stdout",
     "output_type": "stream",
     "text": [
      "Accuracy Score: 0.9693877551020408\n"
     ]
    }
   ],
   "source": [
    "# How accurate my model is predicting\n",
    "acc = accuracy_score(Y_validate, Y_validate_pred)\n",
    "print(\"Accuracy Score:\", acc)"
   ]
  },
  {
   "cell_type": "markdown",
   "id": "eca6ab61",
   "metadata": {},
   "source": [
    "### ROC CURVE AND ROC_AUC_SCORE"
   ]
  },
  {
   "cell_type": "code",
   "execution_count": 51,
   "id": "d083b300",
   "metadata": {},
   "outputs": [
    {
     "name": "stdout",
     "output_type": "stream",
     "text": [
      "ROC AUC Score: 0.875\n"
     ]
    }
   ],
   "source": [
    "#The ROC curve shows how well a model can distinguish between two things. \n",
    "# It does this by plotting the true positive rate against the false positive rate.\n",
    "# While roc_auc_score tells us the performance of the model(Area Under The Curve)\n",
    "roc_auc = roc_auc_score(Y_validate, Y_validate_pred)\n",
    "print(\"ROC AUC Score:\", roc_auc)\n",
    "# For going for more detail we can also calculate predicticated probabilties for our prediction \"x_train_prediction\"\n",
    "# calculating y_pred_proba provides more detailed information about\n",
    "# the model's predictions and can be useful for making decisions based on the confidence level of the model.\n",
    "# Calculate predicted probabilities for class 1\n",
    "# y_pred_proba = random_model.predict_proba(X_validate)[:, 1]\n",
    "# print(y_pred_proba)"
   ]
  },
  {
   "cell_type": "code",
   "execution_count": 52,
   "id": "fa8d8a3e",
   "metadata": {},
   "outputs": [
    {
     "data": {
      "image/png": "[encoded data removed]",
      "text/plain": [
       "<Figure size 640x480 with 1 Axes>"
      ]
     },
     "metadata": {},
     "output_type": "display_data"
    }
   ],
   "source": [
    "# Visualizing the ROC curve\n",
    "fpr, tpr, _ = roc_curve(Y_validate, Y_validate_pred)\n",
    "plt.figure()\n",
    "plt.plot(fpr, tpr, label='ROC curve (area = %0.2f)' % roc_auc)\n",
    "plt.plot([0, 1], [0, 1], 'k--')\n",
    "plt.xlabel('False Positive Rate')\n",
    "plt.ylabel('True Positive Rate')\n",
    "plt.title('ROC Curve')\n",
    "plt.legend(loc='lower right')\n",
    "plt.show()"
   ]
  },
  {
   "cell_type": "markdown",
   "id": "9ba2f760",
   "metadata": {},
   "source": [
    "### CONFUSION MATRIX"
   ]
  },
  {
   "cell_type": "code",
   "execution_count": 53,
   "id": "e424fbad",
   "metadata": {},
   "outputs": [
    {
     "data": {
      "image/png": "[encoded data removed]",
      "text/plain": [
       "<Figure size 500x500 with 2 Axes>"
      ]
     },
     "metadata": {},
     "output_type": "display_data"
    }
   ],
   "source": [
    "#A confusion matrix is a table that is often used to describe the performance of a classification model on a set of test data for which the true values are known.\n",
    "#It allows us to see how well the model is performing in terms of predicting the classes correctly.\n",
    "cm = metrics.confusion_matrix(Y_validate, Y_validate_pred)\n",
    "f, ax = plt.subplots(figsize=(5, 5))\n",
    "sns.heatmap(cm, annot=True, linewidths=0.5, linecolor=\"red\", fmt=\".0f\", ax=ax, alpha=1)\n",
    "plt.show()"
   ]
  },
  {
   "cell_type": "markdown",
   "id": "d26951dc",
   "metadata": {},
   "source": [
    "True Positives (TP): Our model correctly predicted 172 instances where the condition is true.<br>\n",
    "False Negatives (FN): Our model missed 0 instances where the condition is true.<br>\n",
    "False Positives (FP): Our model incorrectly predicted 6 instances as true when they are actually false.<br>\n",
    "True Negatives (TN): Our model correctly predicted 18 instances where the condition is false.<br>"
   ]
  },
  {
   "cell_type": "code",
   "execution_count": 54,
   "id": "28b0bc7d",
   "metadata": {},
   "outputs": [],
   "source": [
    "# Confusion Matrix\n",
    "#           Predicted\n",
    "#           Positive   Negative\n",
    "# Actual  ------------------------\n",
    "# Positive |   TP        FN\n",
    "# Negative |   FP        TN"
   ]
  },
  {
   "cell_type": "code",
   "execution_count": 55,
   "id": "a31d8a87",
   "metadata": {},
   "outputs": [
    {
     "name": "stdout",
     "output_type": "stream",
     "text": [
      "Summarized Report of the Model\n",
      "               precision    recall  f1-score   support\n",
      "\n",
      "           0       0.97      1.00      0.98       172\n",
      "           1       1.00      0.75      0.86        24\n",
      "\n",
      "    accuracy                           0.97       196\n",
      "   macro avg       0.98      0.88      0.92       196\n",
      "weighted avg       0.97      0.97      0.97       196\n",
      "\n"
     ]
    }
   ],
   "source": [
    "# This is a function provided my slkearn metrics which gives us a overview of our model's working\n",
    "report =classification_report(Y_validate,Y_validate_pred)\n",
    "print(\"Summarized Report of the Model\"\"\\n\",report)"
   ]
  },
  {
   "cell_type": "markdown",
   "id": "00b1a541",
   "metadata": {},
   "source": [
    "## Now lets work on predicting and creating a predicted output txt file the test data that has been provided "
   ]
  },
  {
   "cell_type": "markdown",
   "id": "00b7fa6b",
   "metadata": {},
   "source": [
    "### I will be using Random Forest Algorithm as mentioned above"
   ]
  },
  {
   "cell_type": "code",
   "execution_count": 56,
   "id": "70c00821",
   "metadata": {},
   "outputs": [
    {
     "name": "stdout",
     "output_type": "stream",
     "text": [
      "Given Labels for Testing\n",
      "         0     1     2     3    4     5     6     7\n",
      "0    0.74  0.72  0.50  0.28  0.5  0.00  0.49  0.27\n",
      "1    0.80  0.88  0.36  0.39  0.5  0.00  0.56  0.33\n",
      "2    0.57  0.52  0.46  0.20  0.5  0.83  0.52  0.41\n",
      "3    0.77  0.82  0.40  0.36  0.5  0.00  0.38  0.22\n",
      "4    0.69  0.60  0.51  0.13  0.5  0.83  0.52  0.22\n",
      "..    ...   ...   ...   ...  ...   ...   ...   ...\n",
      "347  0.29  0.46  0.54  0.27  0.5  0.00  0.49  0.22\n",
      "348  0.53  0.52  0.61  0.35  0.5  0.00  0.50  0.22\n",
      "349  0.48  0.49  0.49  0.26  0.5  0.00  0.39  0.27\n",
      "350  0.39  0.58  0.50  0.26  0.5  0.00  0.54  0.59\n",
      "351  0.42  0.49  0.49  0.36  0.5  0.00  0.57  0.26\n",
      "\n",
      "[352 rows x 8 columns]\n"
     ]
    }
   ],
   "source": [
    "#As we want to predict the test data lets call it\n",
    "print(\"Given Labels for Testing\"\"\\n\",df_test_attribute_only)"
   ]
  },
  {
   "cell_type": "code",
   "execution_count": 57,
   "id": "2ad13d33",
   "metadata": {},
   "outputs": [],
   "source": [
    "#Now lets predict our test Data and here I am using the best_random_model which is using the tuned Parameters\n",
    "# So basically this is the best model and will work well while giving the predictions\n",
    "y_prediction=best_random_model.predict(df_test_attribute_only)"
   ]
  },
  {
   "cell_type": "code",
   "execution_count": 58,
   "id": "f376eb96",
   "metadata": {},
   "outputs": [],
   "source": [
    "# Stroing my output result In a file named predictions.txt\n",
    "pd.DataFrame(y_prediction, columns=['y_prediction']).to_csv('predictions.txt', index=False)"
   ]
  },
  {
   "cell_type": "code",
   "execution_count": 59,
   "id": "48cea2d5",
   "metadata": {},
   "outputs": [
    {
     "name": "stdout",
     "output_type": "stream",
     "text": [
      "The prediction made by the classifier\n",
      " [0 1 0 1 0 0 1 0 0 1 1 0 0 1 1 1 1 1 0 1 1 1 1 1 1 1 0 0 0 1 0 1 1 0 1 0 0\n",
      " 0 0 0 0 0 0 0 0 0 0 0 0 0 0 0 0 0 0 0 0 0 0 0 0 0 0 0 0 0 0 0 0 0 0 0 0 0\n",
      " 0 0 0 0 0 0 0 0 0 0 0 0 0 0 0 0 0 0 0 0 0 0 0 0 0 0 0 0 0 0 0 0 0 0 0 0 0\n",
      " 0 0 0 0 0 0 0 0 0 0 0 0 0 0 0 0 0 0 0 0 0 0 0 0 0 0 0 0 1 0 0 0 0 0 0 0 0\n",
      " 0 0 0 0 0 0 0 0 0 0 0 0 0 0 0 0 0 0 0 0 0 0 0 0 0 0 0 0 0 0 0 0 0 0 0 0 0\n",
      " 0 0 0 0 0 0 0 0 0 0 0 0 0 1 0 0 0 0 0 0 0 0 0 0 0 0 0 0 0 0 0 0 0 0 0 0 0\n",
      " 0 0 0 0 0 0 0 0 0 0 0 0 0 0 0 0 0 0 0 0 0 1 0 0 0 0 0 0 0 0 0 0 0 0 0 0 0\n",
      " 0 0 0 0 0 0 0 0 0 0 0 0 0 0 0 0 0 0 0 0 0 0 0 0 0 0 0 0 0 0 0 0 0 0 0 0 0\n",
      " 0 0 0 0 0 0 0 0 0 0 0 0 0 0 0 0 0 0 0 0 0 0 0 0 0 0 0 0 0 0 0 1 0 0 0 0 0\n",
      " 0 0 0 0 0 0 0 0 0 0 0 0 0 0 0 0 0 0 0]\n"
     ]
    }
   ],
   "source": [
    "print(\"The prediction made by the classifier\"\"\\n\",y_prediction)"
   ]
  },
  {
   "cell_type": "markdown",
   "id": "8b907fa9",
   "metadata": {},
   "source": [
    "### REFERNCES \n",
    "\n",
    " https://developers.google.com/machine-learning\n",
    "<br>       \n",
    "Hyper tuning parameters:https://medium.com/analytics-vidhya/a-beginners-guide-to-random-forest-hyperparameter-tuning-4692c3ab7537\n",
    "<br>\n",
    "Random Forest: https://scikit-learn.org/stable/modules/generated/sklearn.ensemble.RandomForestRegressor.html#sklearn.ensemble.RandomForestRegressor\n",
    "<br>\n",
    "Model Evaluation:\n",
    "https://neptune.ai/blog/ml-model-evaluation-and-selection"
   ]
  },
  {
   "cell_type": "markdown",
   "id": "cca81d89",
   "metadata": {},
   "source": [
    "### Briefly describe your approach in the following cell."
   ]
  },
  {
   "cell_type": "markdown",
   "id": "b6d58eb9",
   "metadata": {},
   "source": [
    "After assessing both the training dataset and the test attribute data, I performed the data preparation to address null values, verify data types, and acquire additional information to better understand the dataset's features. I then imported all of the necessary libraries for subsequent stages. Using the Random Forest approach, I ran cross-validation to evaluate the model's performance, dividing the data into training and validation sets. In addition, I used the Grid Search approach to find the optimal tuning parameters for my model. After determining the most appropriate parameters, I trained the model, predicted on the training data, and assessed its performance using metrics such as accuracy, performance score, ROC curve, and confusion matrix.Satisfied with the model's performance, I proceeded to predict the output of the test_attribute.csv dataset for the final assignment and saved the results in a text file."
   ]
  },
  {
   "cell_type": "code",
   "execution_count": null,
   "id": "62abf291",
   "metadata": {},
   "outputs": [],
   "source": []
  }
 ],
 "metadata": {
  "kernelspec": {
   "display_name": "Python 3 (ipykernel)",
   "language": "python",
   "name": "python3"
  },
  "language_info": {
   "codemirror_mode": {
    "name": "ipython",
    "version": 3
   },
   "file_extension": ".py",
   "mimetype": "text/x-python",
   "name": "python",
   "nbconvert_exporter": "python",
   "pygments_lexer": "ipython3",
   "version": "3.11.5"
  }
 },
 "nbformat": 4,
 "nbformat_minor": 5
}
